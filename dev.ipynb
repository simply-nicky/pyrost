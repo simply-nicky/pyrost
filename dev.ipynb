{
 "cells": [
  {
   "cell_type": "code",
   "execution_count": null,
   "metadata": {},
   "outputs": [],
   "source": [
    "%load_ext cython\n",
    "import pyrost as rst\n",
    "# import speckle_tracking as st\n",
    "from pyrost.bin import *\n",
    "from pyrost import simulation as st_sim\n",
    "from pyrost import multislice as ms_sim\n",
    "import h5py\n",
    "import os\n",
    "import numpy as np\n",
    "import pickle\n",
    "import pyximport\n",
    "import sys\n",
    "import configparser\n",
    "from multiprocessing import cpu_count\n",
    "from importlib import reload\n",
    "from tqdm.auto import tqdm\n",
    "\n",
    "import matplotlib.pyplot as plt\n",
    "import matplotlib.colors as mcolors\n",
    "from matplotlib.widgets import Slider\n",
    "import matplotlib.animation as animation\n",
    "plt.rcParams['animation.ffmpeg_path']= '/gpfs/cfel/user/nivanov/.conda/envs/pyrost/bin/ffmpeg'\n",
    "# plt.rcParams['figure.dpi'] = 300\n",
    "# plt.rcParams['text.latex.preamble'] = r'\\usepackage{amsmath, amssymb, siunitx}'\n",
    "# plt.rcParams['text.usetex'] = 'True'\n",
    "\n",
    "pyximport.install(reload_support=True, build_in_temp=False, build_dir='.pyxbld')"
   ]
  },
  {
   "cell_type": "code",
   "execution_count": null,
   "metadata": {},
   "outputs": [],
   "source": [
    "if sys.modules.get('dev'): # Maybe sys.modules is better?\n",
    "    dev = sys.modules.get('dev')\n",
    "    dev = reload(dev)\n",
    "else:\n",
    "    import dev\n",
    "print(dir(dev))"
   ]
  },
  {
   "cell_type": "code",
   "execution_count": null,
   "metadata": {},
   "outputs": [],
   "source": [
    "scan_num = 6549\n",
    "log_path = f'/gpfs/cfel/group/cxi/labs/MLL-Sigray/scan-logs/Scan_{scan_num:d}.log'\n",
    "data_dir = f'/gpfs/cfel/group/cxi/labs/MLL-Sigray/scan-frames/Scan_{scan_num:d}'\n",
    "data_files = sorted([os.path.join(data_dir, path) for path in os.listdir(data_dir)\n",
    "                     if path.endswith('Lambda.nxs')])\n",
    "wl_dict = {'Mo': 7.092917530503447e-11,\n",
    "           'Cu': 1.5498024804150033e-10,\n",
    "           'Rh': 6.137831605603974e-11}"
   ]
  },
  {
   "cell_type": "code",
   "execution_count": null,
   "metadata": {},
   "outputs": [],
   "source": [
    "converter = rst.KamzikConverter()\n",
    "converter = converter.read_logs(log_path)"
   ]
  },
  {
   "cell_type": "code",
   "execution_count": null,
   "metadata": {},
   "outputs": [],
   "source": [
    "log_data = converter.cxi_get(['basis_vectors', 'log_translations'])"
   ]
  },
  {
   "cell_type": "code",
   "execution_count": null,
   "metadata": {},
   "outputs": [],
   "source": [
    "input_file = rst.CXIStore(data_files)\n",
    "# distance = 1.8\n",
    "distance = 2.0\n",
    "data = rst.STData(input_file, **log_data, distance=distance, wavelength=wl_dict['Mo'])"
   ]
  },
  {
   "cell_type": "code",
   "execution_count": null,
   "metadata": {},
   "outputs": [],
   "source": [
    "data = data.load('data')\n",
    "data = data.update_mask(method='range', vmax=200)"
   ]
  },
  {
   "cell_type": "code",
   "execution_count": null,
   "metadata": {},
   "outputs": [],
   "source": [
    "%matplotlib widget\n",
    "fig, ax = plt.subplots(figsize=(8, 3))\n",
    "ax.imshow(data.data[1] * data.mask[1], vmax=10)\n",
    "ax.set_title('Frame 0', fontsize=20)\n",
    "ax.tick_params(labelsize=15)\n",
    "plt.tight_layout()\n",
    "plt.show()\n",
    "# plt.savefig('docs/figures/sigray_frame.png', dpi=150)"
   ]
  },
  {
   "cell_type": "code",
   "execution_count": null,
   "metadata": {},
   "outputs": [],
   "source": [
    "# crop = rst.Crop((270, 310, 430, 1250))\n",
    "# crop = rst.Crop((270, 310, 330, 1170))\n",
    "# crop = rst.Crop((440, 480, 790, 1200))\n",
    "crop = rst.Crop((440, 470, 330, 1000))\n",
    "data = data.update_transform(transform=crop)\n",
    "data = data.load('data')"
   ]
  },
  {
   "cell_type": "code",
   "execution_count": null,
   "metadata": {},
   "outputs": [],
   "source": [
    "%matplotlib widget\n",
    "fig, ax = plt.subplots(figsize=(8, 2))\n",
    "ax.imshow(data.data[2], vmax=10)\n",
    "ax.set_title('Frame 0', fontsize=20)\n",
    "ax.tick_params(labelsize=15)\n",
    "plt.tight_layout()\n",
    "plt.show()\n",
    "# plt.savefig('docs/figures/sigray_crop.png', dpi=150)"
   ]
  },
  {
   "cell_type": "code",
   "execution_count": null,
   "metadata": {},
   "outputs": [],
   "source": [
    "data = data.update_mask(method='range', vmax=200).integrate_data()\n",
    "good_frames = None\n",
    "frames = np.arange(0, 80)\n",
    "data = data.mask_frames(good_frames)\n",
    "data = data.update_whitefield(frames=frames, method='robust-mean')"
   ]
  },
  {
   "cell_type": "code",
   "execution_count": null,
   "metadata": {},
   "outputs": [],
   "source": [
    "%matplotlib widget\n",
    "fig, ax = plt.subplots(figsize=(8, 5))\n",
    "ax.plot(data.whitefield[0])\n",
    "fig.tight_layout()\n",
    "plt.show()"
   ]
  },
  {
   "cell_type": "code",
   "execution_count": null,
   "metadata": {},
   "outputs": [],
   "source": [
    "%matplotlib widget\n",
    "n_frames = data.shape[0]\n",
    "\n",
    "fig, ax = plt.subplots(figsize=(8, 3))\n",
    "ax.imshow(data.data[data.good_frames, 0][:n_frames] / data.whitefield,\n",
    "          vmin=0.0, vmax=3.0, aspect=0.75, cmap='plasma',\n",
    "          extent=[0, data.shape[2] * data.x_pixel_size * 1e3,\n",
    "                  (data.translations[n_frames - 1, 0] - data.translations[0, 0]) * 1e6, 0])\n",
    "# ax.plot(data.whitefield[0])\n",
    "ax.set_title('Ptychograph', fontsize=20)\n",
    "# ax.set_yticks([0, 5, 10])\n",
    "# ax.set_xlabel('Detector coordinate, \\si{\\milli\\meter}', fontsize=20)\n",
    "# ax.set_ylabel('Sample shift, \\si{\\micro\\meter}', fontsize=20)\n",
    "ax.tick_params(labelsize=20)\n",
    "plt.tight_layout()\n",
    "plt.show()\n",
    "# plt.savefig('figures/sigray_ptychograph.pdf', dpi=300, transparent=True)"
   ]
  },
  {
   "cell_type": "code",
   "execution_count": null,
   "metadata": {},
   "outputs": [],
   "source": [
    "defoci = np.linspace(50e-6, 500e-6, 50)\n",
    "sweep_scan, extra = data.defocus_sweep(defoci, hval=5.0, return_extra=True)\n",
    "defocus = defoci[np.argmax(sweep_scan)]\n",
    "print(defocus)"
   ]
  },
  {
   "cell_type": "code",
   "execution_count": null,
   "metadata": {},
   "outputs": [],
   "source": [
    "fig, ax = plt.subplots(figsize=(8, 4))\n",
    "# ax.plot(sweep_scan)\n",
    "ax.plot(extra['reference_image'][0][0])\n",
    "ax.tick_params(labelsize=15)\n",
    "ax.grid(True)\n",
    "plt.tight_layout()\n",
    "plt.show()"
   ]
  },
  {
   "cell_type": "code",
   "execution_count": null,
   "metadata": {},
   "outputs": [],
   "source": [
    "fig, ax = plt.subplots(figsize=(8, 4))\n",
    "ax.plot(defoci * 1e3, sweep_scan)\n",
    "ax.set_xlabel('Defocus distance, [mm]', fontsize=15)\n",
    "ax.set_title('Average gradient magnitude squared', fontsize=20)\n",
    "ax.tick_params(labelsize=15)\n",
    "ax.grid(True)\n",
    "plt.tight_layout()\n",
    "plt.show()\n",
    "# plt.savefig('docs/figures/sweep_scan_sigray.png', dpi=300)"
   ]
  },
  {
   "cell_type": "code",
   "execution_count": null,
   "metadata": {},
   "outputs": [],
   "source": [
    "data = data.update_defocus(defocus - 50e-6)\n",
    "st_obj = data.get_st(test_ratio=0.1)"
   ]
  },
  {
   "cell_type": "code",
   "execution_count": null,
   "metadata": {},
   "outputs": [],
   "source": [
    "%matplotlib widget\n",
    "fig, ax = plt.subplots(figsize=(8, 4))\n",
    "ax.plot(st_obj.update_reference(hval=3.0).reference_image[0])\n",
    "# ax.plot(np.linspace(0.1, 60.0, 150), st_obj.CV_curve(np.linspace(0.1, 60.0, 150)))\n",
    "plt.show()"
   ]
  },
  {
   "cell_type": "code",
   "execution_count": null,
   "metadata": {},
   "outputs": [],
   "source": [
    "st_res = st_obj.train_adapt(search_window=(0.0, 300.0, 0.5), h0=13.0, blur=12.0, pm_method='rsearch',\n",
    "                            pm_args={'n_trias': 100, 'strides': (1, 4)})"
   ]
  },
  {
   "cell_type": "code",
   "execution_count": null,
   "metadata": {},
   "outputs": [],
   "source": [
    "fig, axes = plt.subplots(1, 2, figsize=(8, 3))\n",
    "axes[0].plot(np.arange(st_res.reference_image.shape[1]) - st_res.ref_orig[1],\n",
    "             st_res.reference_image[0])\n",
    "axes[0].set_title('Reference image', fontsize=20)\n",
    "axes[1].plot((st_res.pixel_map - st_obj.pixel_map)[1, 0])\n",
    "axes[1].set_title('Pixel mapping', fontsize=20)\n",
    "for ax in axes:\n",
    "    ax.tick_params(labelsize=15)\n",
    "    ax.set_xlabel('Fast axis, pixels', fontsize=15)\n",
    "    ax.grid(True)\n",
    "plt.tight_layout()\n",
    "plt.show()\n",
    "# plt.savefig('docs/figures/sigray_res.png', dpi=300)"
   ]
  },
  {
   "cell_type": "code",
   "execution_count": null,
   "metadata": {},
   "outputs": [],
   "source": [
    "data.import_st(st_res)\n",
    "fit_obj = data.get_fit(axis=1).remove_linear_term()\n",
    "fit = fit_obj.fit(max_order=2)\n",
    "fit['c_3']"
   ]
  },
  {
   "cell_type": "code",
   "execution_count": null,
   "metadata": {},
   "outputs": [],
   "source": [
    "fit_obj.fit(max_order=3)['c_4'], fit_obj.fit(max_order=2)['c_3']"
   ]
  },
  {
   "cell_type": "code",
   "execution_count": null,
   "metadata": {},
   "outputs": [],
   "source": [
    "fig, axes = plt.subplots(1, 2, figsize=(8, 3))\n",
    "axes[0].plot(fit_obj.thetas, fit_obj.theta_ab * 1e9, 'b')\n",
    "axes[0].plot(fit_obj.thetas, fit_obj.model(fit['fit']) * fit_obj.ref_ap * 1e9,\n",
    "             'b--', label=fr\"R-PXST $c_3$ = {fit['c_3']:.4f} rad/mrad^3\")\n",
    "axes[0].set_title('Angular displacements, nrad', fontsize=15)\n",
    "\n",
    "axes[1].plot(fit_obj.thetas, fit_obj.phase, 'b')\n",
    "axes[1].plot(fit_obj.thetas, fit_obj.model(fit['ph_fit']), 'b--',\n",
    "             label=fr\"R-PXST $c_3$ ={fit['c_3']:.4f} rad/mrad^3\")\n",
    "axes[1].set_title('Phase, rad', fontsize=15)\n",
    "for ax in axes:\n",
    "    ax.legend(fontsize=10)\n",
    "    ax.tick_params(labelsize=10)\n",
    "    ax.set_xlabel('Scattering angles, rad', fontsize=15)\n",
    "    ax.grid(True)\n",
    "plt.tight_layout()\n",
    "plt.show()\n",
    "# plt.savefig('docs/figures/sigray_fits.png', dpi=300)"
   ]
  },
  {
   "cell_type": "code",
   "execution_count": null,
   "metadata": {},
   "outputs": [],
   "source": [
    "phase = fit_obj.phase\n",
    "wavefront = np.sqrt(data.get('whitefield')) * np.exp(1j * phase + 2.5j * np.linspace(-1.0, 1.0, phase.size)**2)\n",
    "f_max = (data.x_pixel_size / data.distance / data.wavelength)**-1\n",
    "psf_1d = np.fft.fftshift(np.abs(np.fft.fft(wavefront[0], 10 * phase.size))**2)\n",
    "psf = psf_1d[:, None] * psf_1d[None, :]"
   ]
  },
  {
   "cell_type": "code",
   "execution_count": null,
   "metadata": {},
   "outputs": [],
   "source": [
    "%matplotlib inline\n",
    "fig, ax = plt.subplots(figsize=(8, 8))\n",
    "ax.plot(1e9 * np.linspace(-f_max / 2, f_max / 2, 10 * phase.size), psf_1d)\n",
    "ax.set_title(f'Scan {scan_num:d}', fontsize=20)\n",
    "ax.set_xlabel('x coordinate, nm', fontsize=20)\n",
    "# ax.set_ylabel('y coordinate, nm', fontsize=20)\n",
    "# fig.colorbar(im, ax=ax, shrink=0.8)\n",
    "ax.set_xlim(-50, 50)\n",
    "# ax.set_ylim(-150, 150)\n",
    "ax.tick_params(labelsize=15)\n",
    "plt.tight_layout()\n",
    "plt.show()"
   ]
  },
  {
   "cell_type": "code",
   "execution_count": null,
   "metadata": {},
   "outputs": [],
   "source": [
    "%matplotlib widget\n",
    "fig, ax = plt.subplots(figsize=(9, 7.5))\n",
    "im = ax.imshow(psf / psf.max(), cmap='gist_heat_r',\n",
    "               extent=1e9 * np.array([-f_max / 2, f_max / 2, f_max / 2, -f_max / 2]))\n",
    "ax.set_title('PSF, corrected lens', fontsize=20)\n",
    "ax.set_xlabel('x coordinate, nm', fontsize=20)\n",
    "ax.set_ylabel('y coordinate, nm', fontsize=20)\n",
    "cbar = fig.colorbar(im, ax=ax, shrink=0.95)\n",
    "cbar.ax.tick_params(labelsize=15)\n",
    "\n",
    "ax.set_xlim(-45, 55)\n",
    "ax.set_ylim(-45, 55)\n",
    "\n",
    "ax.tick_params(labelsize=15)\n",
    "fig.tight_layout()\n",
    "plt.savefig('figures/psf_2f.pdf', dpi=300)\n",
    "# plt.show()"
   ]
  },
  {
   "cell_type": "code",
   "execution_count": null,
   "metadata": {},
   "outputs": [],
   "source": [
    "np.savetxt(f'results/phase_data_{scan_num:d}.txt', np.stack((fit_obj.thetas, fit_obj.phase), axis=1),\n",
    "           fmt='%.6f', delimiter=',', header='2Theta Phase[rad]')"
   ]
  },
  {
   "cell_type": "markdown",
   "metadata": {},
   "source": [
    "# P06 beamtime 2019"
   ]
  },
  {
   "cell_type": "code",
   "execution_count": null,
   "metadata": {},
   "outputs": [],
   "source": [
    "!h5ls -r /gpfs/cfel/user/nivanov/p06_data/results/scan_00048/scan_st_00048.cxi"
   ]
  },
  {
   "cell_type": "code",
   "execution_count": null,
   "metadata": {},
   "outputs": [],
   "source": [
    "data_file"
   ]
  },
  {
   "cell_type": "code",
   "execution_count": null,
   "metadata": {},
   "outputs": [],
   "source": [
    "scan_num = 51\n",
    "data_file = f\"/gpfs/cfel/user/nivanov/p06_data/results/scan_{scan_num:05d}/scan_st_{scan_num:05d}.cxi\"\n",
    "protocol = rst.CXIProtocol.import_default()\n",
    "\n",
    "inp_file = rst.CXIStore(data_file, 'r')"
   ]
  },
  {
   "cell_type": "code",
   "execution_count": null,
   "metadata": {},
   "outputs": [],
   "source": [
    "with inp_file:\n",
    "    data = inp_file.load_attribute('data', idxs=np.arange(10), processes=1, verbose=True)"
   ]
  },
  {
   "cell_type": "code",
   "execution_count": null,
   "metadata": {},
   "outputs": [],
   "source": [
    "fig, ax = plt.subplots(1, 2, figsize=(8, 6), gridspec_kw={'width_ratios': [0.1, 1.0]})\n",
    "\n",
    "slider = Slider(ax=ax[0], label='Frame', valmin=0, valmax=19,\n",
    "                valstep=np.arange(0, 20),\n",
    "                valinit=0, orientation=\"vertical\")\n",
    "\n",
    "im0 = ax[1].imshow(data[0], vmin=0.2, vmax=50)\n",
    "\n",
    "def update(event):\n",
    "    im0.set_data(data[slider.val])\n",
    "    fig.canvas.draw_idle()\n",
    "\n",
    "slider.on_changed(update)\n",
    "\n",
    "fig.tight_layout()\n",
    "plt.show()"
   ]
  },
  {
   "cell_type": "code",
   "execution_count": null,
   "metadata": {},
   "outputs": [],
   "source": [
    "roi = (1100, 1565, 700, 990)\n",
    "transform = rst.ComposeTransforms((rst.Crop(roi), rst.Downscale(2)))"
   ]
  },
  {
   "cell_type": "code",
   "execution_count": null,
   "metadata": {},
   "outputs": [],
   "source": [
    "st_data = rst.STData(input_file=inp_file, transform=transform)"
   ]
  },
  {
   "cell_type": "code",
   "execution_count": null,
   "metadata": {},
   "outputs": [],
   "source": [
    "list(inp_file)"
   ]
  },
  {
   "cell_type": "code",
   "execution_count": null,
   "metadata": {},
   "outputs": [],
   "source": [
    "st_data = st_data.load(processes=8)"
   ]
  },
  {
   "cell_type": "code",
   "execution_count": null,
   "metadata": {},
   "outputs": [],
   "source": [
    "st_data = st_data.update_mask(method='range-bad', vmax=1000000)"
   ]
  },
  {
   "cell_type": "code",
   "execution_count": null,
   "metadata": {},
   "outputs": [],
   "source": [
    "fig, ax = plt.subplots(1, 2, figsize=(8, 6), gridspec_kw={'width_ratios': [0.1, 1.0]})\n",
    "\n",
    "slider = Slider(ax=ax[0], label='Frame', valmin=0, valmax=19,\n",
    "                valstep=np.arange(0, 20),\n",
    "                valinit=0, orientation=\"vertical\")\n",
    "\n",
    "im0 = ax[1].imshow(st_data.data[0] * st_data.mask[0], vmin=0.2, vmax=200)\n",
    "\n",
    "def update(event):\n",
    "    im0.set_data(st_data.data[slider.val] * st_data.mask[slider.val])\n",
    "    fig.canvas.draw_idle()\n",
    "\n",
    "slider.on_changed(update)\n",
    "\n",
    "fig.tight_layout()\n",
    "plt.show()"
   ]
  },
  {
   "cell_type": "code",
   "execution_count": null,
   "metadata": {},
   "outputs": [],
   "source": [
    "defoci_x = np.linspace(200e-6, 500e-6, 10)\n",
    "defoci_y = np.linspace(200e-6, 500e-6, 10)\n",
    "defoci_x, defoci_y = np.meshgrid(defoci_x, defoci_y)\n",
    "\n",
    "# sweep_scan is the figure of merit of sharpness, it's maximised at the correct defocus distance\n",
    "# size - the size of the local standard deviation filter,\n",
    "#        the higher it is the lower spatial frequencies you take into account\n",
    "# ds_x, ds_y - sampling intervals of the reference image in pixels\n",
    "# hval - kernel bandwidth used in the reference image reconstruction,\n",
    "#        the higher it is the blurrier the image is\n",
    "\n",
    "sweep_scan, extra = st_data.defocus_sweep(defoci_x, defoci_y, size=50, hval=1.0,\n",
    "                                          extra_args={'ds_x': 3.0, 'ds_y': 3.0},\n",
    "                                          return_extra=True, verbose=True)"
   ]
  },
  {
   "cell_type": "code",
   "execution_count": null,
   "metadata": {},
   "outputs": [],
   "source": [
    "# reshaping the R-values into an image\n",
    "\n",
    "sweep_scan = np.array(sweep_scan).reshape(defoci_x.shape)"
   ]
  },
  {
   "cell_type": "code",
   "execution_count": null,
   "metadata": {},
   "outputs": [],
   "source": [
    "# Finding the optimal defoci\n",
    "\n",
    "index = np.unravel_index(np.argmax(sweep_scan), defoci_x.shape)\n",
    "defocus_x, defocus_y = defoci_x[index], defoci_y[index]\n",
    "print(defocus_x, defocus_y)"
   ]
  },
  {
   "cell_type": "code",
   "execution_count": null,
   "metadata": {},
   "outputs": [],
   "source": [
    "# plotting the reference image corresponding to the optimal defocus distance\n",
    "\n",
    "%matplotlib widget\n",
    "fig, ax = plt.subplots(figsize=(6, 6))\n",
    "ax.imshow(extra['reference_image'][np.argmax(sweep_scan)], vmin=0.7, vmax=1.3)\n",
    "fig.tight_layout()\n",
    "plt.show()"
   ]
  },
  {
   "cell_type": "code",
   "execution_count": null,
   "metadata": {},
   "outputs": [],
   "source": [
    "# parsing the found defoci to the ST data container\n",
    "\n",
    "st_data = st_data.update_defocus(defocus_x, defocus_y)"
   ]
  },
  {
   "cell_type": "code",
   "execution_count": null,
   "metadata": {},
   "outputs": [],
   "source": [
    "# generating a speckle tracking \"reconstructer\"\n",
    "# ds_x, ds_y - sampling intervals of the reference image in pixels\n",
    "\n",
    "st_obj = st_data.get_st(ds_x=2.0, ds_y=2.0)"
   ]
  },
  {
   "cell_type": "code",
   "execution_count": null,
   "metadata": {},
   "outputs": [],
   "source": [
    "# finding the optimal reference image bandwidth\n",
    "#\n",
    "# kernel bandwidth used in the reference image reconstruction,\n",
    "# the higher it is the blurrier the image is\n",
    "#\n",
    "# The cross validation error is minimized when the kernel bandwidth is \"right\"\n",
    "# CV -> https://towardsdatascience.com/what-is-cross-validation-60c01f9d9e75\n",
    "\n",
    "h_vals = np.linspace(0.5, 3.0, 25)\n",
    "cv_vals = st_obj.CV_curve(h_vals)"
   ]
  },
  {
   "cell_type": "code",
   "execution_count": null,
   "metadata": {},
   "outputs": [],
   "source": [
    "fig, ax = plt.subplots(figsize=(8, 4))\n",
    "ax.plot(h_vals, cv_vals)\n",
    "ax.set_xlabel('Kernel bandwidth', fontsize=15)\n",
    "ax.set_title('Cross-validation', fontsize=20)\n",
    "ax.tick_params(labelsize=10)\n",
    "ax.grid(True)\n",
    "fig.tight_layout()\n",
    "plt.show()"
   ]
  },
  {
   "cell_type": "code",
   "execution_count": null,
   "metadata": {},
   "outputs": [],
   "source": [
    "h0 = h_vals[np.argmin(cv_vals)]\n",
    "\n",
    "# performing the PXST reconstruction with adaptive bandwidth\n",
    "# performing the update first with high 'blur' value to supress any artifacts in pixel_map\n",
    "\n",
    "# more info -> https://robust-speckle-tracking.readthedocs.io/en/latest/reference/rst_ref.html\n",
    "\n",
    "st_adapt = st_obj.train_adapt(search_window=(10.0, 10.0, 0.1), h0=h0, blur=16.0, n_iter=10,\n",
    "                              pm_method='rsearch', pm_args={'n_trials': 50})"
   ]
  },
  {
   "cell_type": "code",
   "execution_count": null,
   "metadata": {},
   "outputs": [],
   "source": [
    "# Plotting the reconstructed reference image\n",
    "# All the blurriness has to be corrected after the update\n",
    "\n",
    "fig, ax = plt.subplots(figsize=(7, 6))\n",
    "ax.imshow(st_adapt.reference_image, vmin=0.7, vmax=1.3)\n",
    "ax.set_title('Reference image', fontsize=20)\n",
    "ax.set_xlabel('horizontal axis', fontsize=15)\n",
    "ax.set_ylabel('vertical axis', fontsize=15)\n",
    "ax.tick_params(labelsize=15)\n",
    "fig.tight_layout()\n",
    "plt.show()"
   ]
  },
  {
   "cell_type": "code",
   "execution_count": null,
   "metadata": {},
   "outputs": [],
   "source": [
    "# Plotting the reconstructed pixel_map\n",
    "# You expect to see a smooth profile with following the third polynomial\n",
    "\n",
    "fig, ax = plt.subplots(1, 2, figsize=(8, 4))\n",
    "ax[0].imshow((st_adapt.pixel_map[0] - st_obj.pixel_map[0]))\n",
    "ax[1].imshow((st_adapt.pixel_map[1] - st_obj.pixel_map[1]))\n",
    "fig.tight_layout()\n",
    "plt.show()"
   ]
  },
  {
   "cell_type": "code",
   "execution_count": null,
   "metadata": {},
   "outputs": [],
   "source": [
    "# Generating a phase out of st_adapt.pixel_map\n",
    "# The phase is saved into st_data.phase\n",
    "\n",
    "st_data.import_st(st_adapt)"
   ]
  },
  {
   "cell_type": "code",
   "execution_count": null,
   "metadata": {},
   "outputs": [],
   "source": [
    "# Fitting the phase profile with st_data.get_fit\n",
    "# axis - 0 for y axis and 1 for x axis\n",
    "\n",
    "fit_obj_ss = st_data.get_fit(axis=0)\n",
    "fit_ss = fit_obj_ss.fit(max_order=3)\n",
    "fit_obj_fs = st_data.get_fit(axis=1)\n",
    "fit_fs = fit_obj_fs.fit(max_order=3)\n",
    "print(fit_fs['c_3'], fit_fs['c_4'], fit_ss['c_3'], fit_ss['c_4'])"
   ]
  },
  {
   "cell_type": "code",
   "execution_count": null,
   "metadata": {},
   "outputs": [],
   "source": [
    "fig, ax = plt.subplots(figsize=(8, 8))\n",
    "ax.imshow(st_data.get('phase'))\n",
    "ax.set_title('Phase', fontsize=20)\n",
    "ax.set_xlabel('Horizontal axis', fontsize=15)\n",
    "ax.set_ylabel('Vertical axis', fontsize=15)\n",
    "ax.tick_params(labelsize=15)\n",
    "plt.show()"
   ]
  },
  {
   "cell_type": "code",
   "execution_count": null,
   "metadata": {},
   "outputs": [],
   "source": [
    "fig, axes = plt.subplots(1, 2, figsize=(8, 3))\n",
    "axes[0].plot(fit_obj_fs.pixels, fit_obj_fs.phase, label='Reconstructed profile')\n",
    "axes[0].plot(fit_obj_fs.pixels, fit_obj_fs.model(fit_fs['ph_fit']), linestyle='dashed',\n",
    "                 label='Polynomial fit')\n",
    "axes[0].set_xlabel('Horizontal axis', fontsize=15)\n",
    "axes[1].plot(fit_obj_ss.pixels, fit_obj_ss.phase, label='Reconstructed profile')\n",
    "axes[1].plot(fit_obj_ss.pixels, fit_obj_ss.model(fit_ss['ph_fit']), linestyle='dashed',\n",
    "             label='Polynomial fit')\n",
    "axes[1].set_xlabel('Horizontal axis', fontsize=15)\n",
    "for ax in axes:\n",
    "    ax.set_title('Phase', fontsize=15)\n",
    "    ax.tick_params(labelsize=10)\n",
    "    ax.legend(fontsize=10)\n",
    "    ax.grid(True)\n",
    "fig.tight_layout()\n",
    "plt.show()"
   ]
  },
  {
   "cell_type": "markdown",
   "metadata": {},
   "source": [
    "# Multislice"
   ]
  },
  {
   "cell_type": "code",
   "execution_count": null,
   "metadata": {},
   "outputs": [],
   "source": [
    "st_obj = data.get_st()\n",
    "%time I0, n0, m0 = dev.make_reference(I_n=st_obj.data, W=st_obj.whitefield, u=st_obj.pixel_map, \\\n",
    "                      di=st_obj.di_pix, dj=st_obj.dj_pix, sw_y=0, \\\n",
    "                      sw_x=0, h=8., num_threads=st_obj.num_threads)\n",
    "%time u = dev.update_pixel_map(I_n=st_obj.data, W=st_obj.whitefield, I0=I0, \\\n",
    "                u0=st_obj.pixel_map, di=st_obj.di_pix - n0, dj=st_obj.dj_pix - m0, \\\n",
    "                sw_y=0, sw_x=100, h=0.0, num_threads=st_obj.num_threads)\n",
    "%time dij = dev.update_translations(I_n=st_obj.data, W=st_obj.whitefield, I0=I0, \\\n",
    "                u=u, di=st_obj.di_pix - n0, dj=st_obj.dj_pix - m0, \\\n",
    "                sw_y=0, sw_x=100, h=0.0, num_threads=st_obj.num_threads)"
   ]
  },
  {
   "cell_type": "code",
   "execution_count": null,
   "metadata": {},
   "outputs": [],
   "source": [
    "st_obj = data.get_st()\n",
    "%time _ = rst.bin.make_reference(I_n=st_obj.data, W=st_obj.whitefield, u=st_obj.pixel_map, \\\n",
    "                      di=st_obj.di_pix, dj=st_obj.dj_pix, sw_y=0, \\\n",
    "                      sw_x=0, ls=8., num_threads=st_obj.num_threads)\n",
    "%time _ = rst.bin.update_pixel_map(I_n=st_obj.data, W=st_obj.whitefield, I0=I0, \\\n",
    "                u0=st_obj.pixel_map, di=st_obj.di_pix - n0, dj=st_obj.dj_pix - m0, \\\n",
    "                sw_y=0, sw_x=100, ls=0.0, num_threads=st_obj.num_threads)\n",
    "%time _ = rst.bin.update_translations(I_n=st_obj.data, W=st_obj.whitefield, I0=I0, \\\n",
    "                u=u, di=st_obj.di_pix - n0, dj=st_obj.dj_pix - m0, \\\n",
    "                sw_y=0, sw_x=100, ls=0.0, num_threads=st_obj.num_threads)"
   ]
  },
  {
   "cell_type": "code",
   "execution_count": null,
   "metadata": {},
   "outputs": [],
   "source": [
    "# Recipe simulation\n",
    "\n",
    "en = 17.48e3\n",
    "wl = ms_sim.MLL.en_to_wl / en\n",
    "n_min = 700\n",
    "mll_mat1 = ms_sim.Material(formula='SiC', density=2.67)\n",
    "mll_mat2 = ms_sim.Material(formula='WC', density=13.87)\n",
    "params = ms_sim.MSParams.import_default(x_step=1e-4, z_step=9e-3, n_min=n_min, n_max=n_min + 21710,\n",
    "                                        focus=1.25e3, mll_sigma=2e-4, mll_wl=wl, wl=wl, x_min=5., x_max=45.,\n",
    "                                        mll_depth=9.33, mll_mat1=mll_mat1, mll_mat2=mll_mat2)\n",
    "mll = ms_sim.MLL.import_params(params)\n",
    "\n",
    "d_n = np.loadtxt('results/mll_recipe/MLL_profiles-02.txt') * 8e-4\n",
    "params.focus = 8e2\n",
    "d_lyr = np.repeat(d_n / 2, 2)\n",
    "z_coords = params.z_step * np.arange(params.mll_depth // params.z_step)\n",
    "mll.layers = (np.cumsum(d_lyr) + 8.) - z_coords[:, None] * np.repeat(params.mll_wl / 2 / d_n, 2)\n",
    "print(d_n.shape, mll.layers.shape, mll.layers.min(), mll.layers.max())\n",
    "print(mll.layers.shape)"
   ]
  },
  {
   "cell_type": "code",
   "execution_count": null,
   "metadata": {},
   "outputs": [],
   "source": [
    "# Ideal MLL simulation\n",
    "\n",
    "en = 60.0e3\n",
    "wl = ms_sim.MLL.en_to_wl / en\n",
    "n_min, n_layers = 700, 20000\n",
    "mll_mat1 = ms_sim.Material(formula='SiC', density=2.67)\n",
    "mll_mat2 = ms_sim.Material(formula='WC', density=13.87)\n",
    "params = ms_sim.MSParams.import_default(x_step=1e-4, z_step=1e-2, n_min=n_min, n_max=n_min + n_layers,\n",
    "                                        focus=2.5e3, mll_sigma=2e-4, mll_wl=wl, wl=wl, x_min=5., x_max=40.,\n",
    "                                        mll_depth=60.0, mll_mat1=mll_mat1, mll_mat2=mll_mat2)\n",
    "mll = ms_sim.MLL.import_params(params)\n",
    "\n",
    "ksize = 1e3\n",
    "ms_prgt = ms_sim.MSPropagator(params, mll)\n",
    "wf_inc = gaussian_filter(ms_prgt.wf_inc.real, ksize) + 1j * gaussian_filter(ms_prgt.wf_inc.imag, ksize)\n",
    "ms_prgt = ms_prgt.update_inc_wavefront(wf_inc)\n",
    "\n",
    "ms_prgt.beam_propagate(verbose=True)\n",
    "print(mll.layers.shape, mll.layers.min(), mll.layers.max())"
   ]
  },
  {
   "cell_type": "code",
   "execution_count": null,
   "metadata": {},
   "outputs": [],
   "source": [
    "ml_ds = (5. + np.cumsum(0.5 * mll_d * np.linspace(0.983, 0.9998, 2 * (params.n_max - params.n_min))))\n",
    "ml_zs = params.z_step * np.arange(params.mll_depth // params.z_step)\n",
    "layers = ml_ds - ml_zs[:, None] * np.tan(np.linspace(0, np.pi / 1.8e4, ml_ds.size))"
   ]
  },
  {
   "cell_type": "code",
   "execution_count": null,
   "metadata": {},
   "outputs": [],
   "source": [
    "st_sim.MLL.en_to_wl / 60.00e3"
   ]
  },
  {
   "cell_type": "code",
   "execution_count": null,
   "metadata": {},
   "outputs": [],
   "source": [
    "# Multilayer simulation\n",
    "\n",
    "en = 60.0e3\n",
    "mll_d = 10e-3\n",
    "mll_z = 55.\n",
    "mll_ap = 30.\n",
    "wedge = 0.0\n",
    "strain = 0.0\n",
    "\n",
    "wl = st_sim.MLL.en_to_wl / en\n",
    "mll_mat1 = st_sim.Material(formula='SiC', density=2.67)\n",
    "mll_mat2 = st_sim.Material(formula='WC', density=13.87)\n",
    "bragg = np.arcsin(0.5 * wl / mll_d)\n",
    "x_mgn = 5.\n",
    "params = st_sim.MSParams.import_default(x_step=1e-4, z_step=2e-2, n_min=x_mgn / mll_d,\n",
    "                                        n_max=(x_mgn + mll_ap) / mll_d, mll_sigma=0.2e-4, wl=wl,\n",
    "                                        x_min=0., x_max=40., mll_depth=mll_z,\n",
    "                                        mll_mat1=mll_mat1, mll_mat2=mll_mat2,\n",
    "                                        focus=30 / np.tan(bragg))\n",
    "\n",
    "ml_ds = (x_mgn + np.cumsum(0.5 * mll_d * np.linspace(1.0 - strain, 1.0, 2 * (params.n_max - params.n_min))))\n",
    "ml_zs = params.z_step * np.arange(params.mll_depth // params.z_step)\n",
    "layers = ml_ds - ml_zs[:, None] * np.tan(np.linspace(0, wedge, ml_ds.size))\n",
    "mll = st_sim.MLL(mat1_r=params.get_mat1_r(en), mat2_r=params.get_mat2_r(en),\n",
    "                 sigma=params.mll_sigma, layers=layers)\n",
    "\n",
    "ms_prgt = st_sim.MSPropagator(params, mll)\n",
    "\n",
    "ksize = 0.33 * (ms_prgt.x_arr[1] - ms_prgt.x_arr[0])**-1 # 3 sigma = 1 um\n",
    "x_lb, x_ub = x_mgn + 1., x_mgn + mll_ap - 1.\n",
    "wf_inc = np.ones(ms_prgt.x_arr.shape, dtype=np.complex128)\n",
    "wf_inc[(ms_prgt.x_arr < x_lb) | (ms_prgt.x_arr > x_ub)] = 0.\n",
    "wf_inc = rst.bin.gaussian_filter(wf_inc.real, ksize) + \\\n",
    "         1j * rst.bin.gaussian_filter(wf_inc.imag, ksize)"
   ]
  },
  {
   "cell_type": "code",
   "execution_count": null,
   "metadata": {},
   "outputs": [],
   "source": [
    "th_max = 0.15e-3\n",
    "n_thetas = 250\n",
    "\n",
    "bin_ratio = ms_prgt.size // 1000\n",
    "z_arr = ms_prgt.z_arr[::int((ms_prgt.z_arr[1] - ms_prgt.z_arr[0])**-1)] # every 1 um\n",
    "thetas = np.sin(bragg) + np.linspace(-th_max, th_max, n_thetas)\n",
    "mll_beam = np.array([params.x_min, params.x_max])\n",
    "diff_beam = mll_beam + np.tan(thetas - 2 * bragg)[:, None] * params.focus\n",
    "drct_beam = mll_beam + np.tan(thetas)[:, None] * params.focus\n",
    "ratio = np.ceil(2 * (np.tan(2 * bragg) + th_max) * params.focus / (params.x_max - params.x_min) + 1)\n",
    "xs_foc = ratio * params.x_step * (np.arange(ms_prgt.size) - ms_prgt.size // 2) + np.mean(ms_prgt.x_arr)\n",
    "xs_foc = xs_foc.reshape((bin_ratio, -1)).mean(axis=1)"
   ]
  },
  {
   "cell_type": "code",
   "execution_count": null,
   "metadata": {},
   "outputs": [],
   "source": [
    "verbose = True\n",
    "size = int((ratio * (1 + ratio) * params.x_step**2 / params.wl / params.focus)**-1)\n",
    "\n",
    "wfts = []\n",
    "for theta in tqdm(thetas, disable=not verbose,\n",
    "                  bar_format='{desc} {percentage:3.0f}% {bar} Angle {n_fmt} / {total_fmt} '\\\n",
    "                             '[{elapsed}<{remaining}, {rate_fmt}{postfix}]'):\n",
    "    ms_prgt.update_inc_wavefront.inplace_update(wf_inc * np.exp(2j * np.pi / params.wl * theta * ms_prgt.x_arr))\n",
    "    ms_prgt.beam_propagate(verbose=False)\n",
    "    wfts_theta = []\n",
    "    for z, wft in zip(z_arr, ms_prgt.beam_profile[::int((ms_prgt.z_arr[1] - ms_prgt.z_arr[0])**-1)]):\n",
    "        wft_foc = rst.bin.rsc_wp(wft, params.x_step, ratio * params.x_step,\n",
    "                                 params.focus - z, params.wl)\n",
    "        if size < wft.size:\n",
    "            wft_foc[:(wft.size - size) // 2] = 0.0\n",
    "            wft_foc[(size - wft.size) // 2:] = 0.0\n",
    "        wfts_theta.append((np.abs(wft_foc)**2).reshape((bin_ratio, -1)).mean(axis=1))\n",
    "    wfts.append(np.stack(wfts_theta, axis=0))\n",
    "wfts = np.stack(wfts, axis=1)"
   ]
  },
  {
   "cell_type": "code",
   "execution_count": null,
   "metadata": {},
   "outputs": [],
   "source": [
    "diff_mask = np.tile((xs_foc > diff_beam[:, 0, None]) & (xs_foc < diff_beam[:, 1, None])[None, ...],\n",
    "                    (z_arr.size, 1, 1))\n",
    "drct_mask = np.tile((xs_foc > drct_beam[:, 0, None]) & (xs_foc < drct_beam[:, 1, None])[None, ...],\n",
    "                    (z_arr.size, 1, 1))\n",
    "diff_sum = np.sum(wfts * diff_mask, axis=-1)\n",
    "drct_sum = np.sum(wfts * drct_mask, axis=-1)\n",
    "effs = diff_sum / (diff_sum + drct_sum)"
   ]
  },
  {
   "cell_type": "code",
   "execution_count": null,
   "metadata": {},
   "outputs": [],
   "source": [
    "with h5py.File('results/mslice_60_keV.h5', 'r') as h5_file:\n",
    "    effs = h5_file['entry/efficiencies'][()]\n",
    "\n",
    "with h5py.File('results/mslice_10mdeg_wedge_60_keV.h5', 'r') as h5_file:\n",
    "    xs_foc = h5_file['entry/xcoordinates'][()]\n",
    "    wfts = h5_file['entry/wavefronts'][()]\n",
    "    thetas = h5_file['entry/thetas'][()]\n",
    "    z_arr = h5_file['entry/thicknesses'][()]\n",
    "    effs_10_wedge = h5_file['entry/efficiencies'][()]\n",
    "\n",
    "with h5py.File('results/mslice_20mdeg_wedge_60_keV.h5', 'r') as h5_file:\n",
    "    effs_20_wedge = h5_file['entry/efficiencies'][()]"
   ]
  },
  {
   "cell_type": "code",
   "execution_count": null,
   "metadata": {},
   "outputs": [],
   "source": [
    "with h5py.File('results/mslice_100_mllz_60_keV.h5', 'r') as h5_file:\n",
    "    xs_foc = h5_file['entry/xcoordinates'][()]\n",
    "    wfts = h5_file['entry/wavefronts'][()]\n",
    "    thetas = h5_file['entry/thetas'][()]\n",
    "    z_arr = h5_file['entry/thicknesses'][()]\n",
    "    effs = h5_file['entry/efficiencies'][()]\n",
    "\n",
    "with h5py.File('results/mslice_100_mllz_10mdeg_wedge_60_keV.h5', 'r') as h5_file:\n",
    "    effs_10_wedge = h5_file['entry/efficiencies'][()]\n",
    "\n",
    "with h5py.File('results/mslice_100_mllz_20mdeg_wedge_60_keV.h5', 'r') as h5_file:\n",
    "    effs_20_wedge = h5_file['entry/efficiencies'][()]"
   ]
  },
  {
   "cell_type": "code",
   "execution_count": null,
   "metadata": {},
   "outputs": [],
   "source": [
    "with h5py.File('results/mslice_1nm_17_keV_250_pts.h5', 'r') as h5_file:\n",
    "    xs_foc = h5_file['entry/xcoordinates'][()]\n",
    "    wfts = h5_file['entry/wavefronts'][()]\n",
    "    thetas = h5_file['entry/thetas'][()]\n",
    "    z_arr = h5_file['entry/thicknesses'][()]\n",
    "    effs_1nm = h5_file['entry/efficiencies'][()]"
   ]
  },
  {
   "cell_type": "code",
   "execution_count": null,
   "metadata": {},
   "outputs": [],
   "source": [
    "%matplotlib inline\n",
    "idx = (50, 125)\n",
    "\n",
    "fig, axes = plt.subplots(1, 1, figsize=(8, 6))\n",
    "axes.plot(xs_foc, wfts[idx])\n",
    "# axes.plot(xs_foc[[diff_mask[idx]]], wfts[idx][diff_mask[idx]])\n",
    "# axes.plot(xs_foc[[drct_mask[idx]]], wfts[idx][drct_mask[idx]])\n",
    "axes.set_title('Focal plane', fontsize=20)\n",
    "axes.set_xlabel('x coordinate, um', fontsize=15)\n",
    "axes.set_ylabel('Focal beam energy, a.u.', fontsize=15)\n",
    "axes.tick_params(labelsize=15)\n",
    "axes.grid(True)\n",
    "plt.show()"
   ]
  },
  {
   "cell_type": "code",
   "execution_count": null,
   "metadata": {},
   "outputs": [],
   "source": [
    "%matplotlib notebook\n",
    "import matplotlib.animation as animation\n",
    "plt.rcParams['animation.ffmpeg_path'] = '/gpfs/cfel/user/nivanov/.conda/envs/pyrost/bin/ffmpeg'\n",
    "\n",
    "ims = []\n",
    "fig, axes = plt.subplots(1, 1, figsize=(10, 6))\n",
    "axes.set_xlabel('x coordinate, um', fontsize=15)\n",
    "axes.set_ylabel('Beam absolute', fontsize=15)\n",
    "axes.set_xlim(xs_foc.min(), xs_foc.max())\n",
    "axes.set_ylim(0.0, wfts[50].max())\n",
    "axes.tick_params(labelsize=15)\n",
    "\n",
    "axes.grid(True)\n",
    "\n",
    "z = 60\n",
    "\n",
    "im_0, = axes.plot(xs_foc, wfts[z, 0], c='r',\n",
    "                  label=f'Grating thickness = {z:d} um')\n",
    "axes.set_title(f'Bragg offset = {np.rad2deg(thetas[0] - bragg) * 1e3:.2f} mdeg', fontsize=20)\n",
    "axes.legend(fontsize=15)\n",
    "\n",
    "def update(iternum): \n",
    "    im_0.set_data(xs_foc, wfts[z, iternum])\n",
    "    axes.set_title(f'Bragg offset = {np.rad2deg(thetas[iternum] - bragg) * 1e3:.2f} mdeg', fontsize=20)\n",
    "    return im_0,\n",
    "    \n",
    "\n",
    "ani = animation.FuncAnimation(fig, update, frames=thetas.size, interval=100, blit=True)\n",
    "    \n",
    "FFwriter = animation.FFMpegWriter(extra_args=['-vcodec', 'libx264'])\n",
    "# ani.save('figures/mslice_wedged_grating_60_kev.mp4', writer=FFwriter)\n",
    "plt.show()"
   ]
  },
  {
   "cell_type": "code",
   "execution_count": null,
   "metadata": {},
   "outputs": [],
   "source": [
    "%matplotlib inline\n",
    "idx = 70\n",
    "\n",
    "fig, axes = plt.subplots(1, 1, figsize=(10, 6))\n",
    "axes.plot(np.rad2deg(thetas - bragg) * 1e3, effs[idx], label='no wedge')\n",
    "axes.plot(np.rad2deg(thetas - bragg) * 1e3, effs_10_wedge[idx], label='10 mdeg wedge')\n",
    "axes.plot(np.rad2deg(thetas - bragg) * 1e3, effs_20_wedge[idx], label='20 mdeg wedge')\n",
    "axes.set_title('Focal plane', fontsize=20)\n",
    "axes.set_xlabel('Angle of incidence, mdeg', fontsize=15)\n",
    "axes.set_ylabel('Focal beam energy, a.u.', fontsize=15)\n",
    "axes.legend(fontsize=20)\n",
    "axes.tick_params(labelsize=15)\n",
    "axes.grid(True)\n",
    "plt.show()"
   ]
  },
  {
   "cell_type": "code",
   "execution_count": null,
   "metadata": {},
   "outputs": [],
   "source": [
    "%matplotlib notebook\n",
    "import matplotlib.animation as animation\n",
    "plt.rcParams['animation.ffmpeg_path'] = '/gpfs/cfel/user/nivanov/.conda/envs/pyrost/bin/ffmpeg'\n",
    "\n",
    "ims = []\n",
    "fig, axes = plt.subplots(1, 1, figsize=(10, 6))\n",
    "axes.set_xlabel('Angle of incidence, mdeg', fontsize=15)\n",
    "axes.set_ylabel('Grating efficiency, [0.0 - 1.0]', fontsize=15)\n",
    "axes.set_xlim(np.rad2deg(thetas - bragg).min() * 1e3, np.rad2deg(thetas - bragg).max() * 1e3)\n",
    "axes.set_ylim(0.0, 1.0)\n",
    "axes.tick_params(labelsize=15)\n",
    "\n",
    "axes.grid(True)\n",
    "\n",
    "im_0, = axes.plot(np.rad2deg(thetas - bragg) * 1e3, effs[0], c='r', label='10 nm period')\n",
    "im_1, = axes.plot(np.rad2deg(thetas - bragg) * 1e3, effs_10_wedge[0], c='b', label='10 nm period, 10 mdeg wedge')\n",
    "im_2, = axes.plot(np.rad2deg(thetas - bragg) * 1e3, effs_20_wedge[0], c='g', label='10 nm period, 20 mdeg wedge')\n",
    "axes.set_title(f'Grating thickness = {z_arr[0]:.1f} um', fontsize=20)\n",
    "axes.legend(fontsize=15)\n",
    "\n",
    "def update(iternum): \n",
    "    im_0.set_data(np.rad2deg(thetas - bragg) * 1e3, effs[iternum])\n",
    "    im_1.set_data(np.rad2deg(thetas - bragg) * 1e3, effs_10_wedge[iternum])\n",
    "    im_2.set_data(np.rad2deg(thetas - bragg) * 1e3, effs_20_wedge[iternum])\n",
    "    axes.set_title(f'Grating thickness = {z_arr[iternum]:.1f} um', fontsize=20)\n",
    "    return im_0, im_1, im_2\n",
    "    \n",
    "\n",
    "ani = animation.FuncAnimation(fig, update, frames=z_arr.size, interval=200, blit=True)\n",
    "    \n",
    "FFwriter = animation.FFMpegWriter(extra_args=['-vcodec', 'libx264'])\n",
    "# ani.save('figures/mslice_10nm_mlld.mp4', writer=FFwriter, dpi=200)\n",
    "plt.show()"
   ]
  },
  {
   "cell_type": "code",
   "execution_count": null,
   "metadata": {},
   "outputs": [],
   "source": [
    "%matplotlib inline\n",
    "fig, axes = plt.subplots(1, 2, figsize=(18, 6))\n",
    "axes[0].plot(ms_prgt.x_arr[::100], np.abs(ms_prgt.beam_profile[0, ::100])**2)\n",
    "axes[0].set_title('Entry surface', fontsize=20)\n",
    "axes[0].plot(ms_prgt.x_arr[::100], np.abs(ms_prgt.wf_inc[::100])**2)\n",
    "axes[1].plot(ms_prgt.x_arr[::100], np.abs(ms_prgt.beam_profile[-1, ::100])**2)\n",
    "axes[1].set_title('Exit surface', fontsize=20)\n",
    "plt.show()"
   ]
  },
  {
   "cell_type": "code",
   "execution_count": null,
   "metadata": {},
   "outputs": [],
   "source": [
    "w_pad = 100\n",
    "wft = np.pad(ms_prgt.beam_profile[-1], (w_pad, w_pad))\n",
    "\n",
    "focus_step = 4 * params.x_step\n",
    "wft_focus = rsc_wp(wft, params.x_step, focus_step, params.focus - params.mll_depth, params.wl)[w_pad:-w_pad]\n",
    "xfocus = focus_step * np.arange(-wft_focus.size // 2, wft_focus.size - wft_focus.size // 2)\n",
    "xfocus += np.mean(ms_prgt.x_arr)\n",
    "\n",
    "# det_dist = 2e5\n",
    "# M = det_dist / params.focus * 4.\n",
    "# far_step = M * params.x_step\n",
    "# wft_far = fraunhofer_wp(wft, params.x_step, far_step, det_dist, params.wl)[w_pad:-w_pad]\n",
    "# xfar = far_step * np.arange(-wft_far.size // 2, wft_far.size - wft_far.size // 2) + np.mean(ms_prgt.x_arr)"
   ]
  },
  {
   "cell_type": "code",
   "execution_count": null,
   "metadata": {},
   "outputs": [],
   "source": [
    "%matplotlib inline\n",
    "fig, ax = plt.subplots(figsize=(12, 6))\n",
    "ax.plot(xfocus, np.abs(wft_focus)**2)\n",
    "plt.show()"
   ]
  },
  {
   "cell_type": "code",
   "execution_count": null,
   "metadata": {},
   "outputs": [],
   "source": [
    "foc_step = 4 * params.x_step\n",
    "\n",
    "wfts_foc, xs_foc = {}, {}\n",
    "for z, wft in zip(ms_prgt.z_arr[::50], ms_prgt.beam_profile[::50]):\n",
    "\n",
    "    wft_foc = rsc_wp(wft, params.x_step, foc_step, params.focus - z, params.wl)\n",
    "    x_foc = foc_step * np.arange(-wft_foc.size // 2, wft_foc.size - wft_foc.size // 2) + \\\n",
    "            np.mean(ms_prgt.x_arr)\n",
    "    \n",
    "    wfts_foc[z] = wft_foc\n",
    "    xs_foc[z] = x_foc"
   ]
  },
  {
   "cell_type": "code",
   "execution_count": null,
   "metadata": {},
   "outputs": [],
   "source": [
    "foc_step = 4 * params.x_step\n",
    "\n",
    "wfts_foc = {z: {} for z in ms_prgt.z_arr[::50]}\n",
    "xs_foc = foc_step * np.arange(-ms_prgt.size // 2, ms_prgt.size - ms_prgt.size // 2) + \\\n",
    "         np.mean(ms_prgt.x_arr)\n",
    "for bragg, ms_prgt in ms_dict.items():\n",
    "    for z, wft in zip(ms_prgt.z_arr[::50], ms_prgt.beam_profile[::50]):\n",
    "\n",
    "        wft_foc = rsc_wp(wft, params.x_step, foc_step, params.focus - z, params.wl)\n",
    "        wfts_foc[z][bragg] = wft_foc"
   ]
  },
  {
   "cell_type": "code",
   "execution_count": null,
   "metadata": {},
   "outputs": [],
   "source": [
    "sums = np.array([np.sum(np.abs(wft_foc[:wft_foc.size // 2])**2) / np.sum(np.abs(wft_foc)**2)\n",
    "                 for wft_foc in wfts_foc.values()])"
   ]
  },
  {
   "cell_type": "code",
   "execution_count": null,
   "metadata": {},
   "outputs": [],
   "source": [
    "%matplotlib inline\n",
    "fig, axes = plt.subplots(1, 1, figsize=(10, 6))\n",
    "for z in [10, 32, 59]:\n",
    "    axes.plot(xs_foc[z], np.abs(wfts_foc[z])**2, label=f'MLL thickness = {z} um')\n",
    "axes.legend(fontsize=15)\n",
    "axes.set_xlim(44.99, 45.01)\n",
    "axes.set_title('Focal plane', fontsize=20)\n",
    "axes.set_xlabel('x coordinate, um', fontsize=15)\n",
    "axes.set_ylabel('Intensity, a.u.', fontsize=15)\n",
    "axes.tick_params(labelsize=15)\n",
    "axes.grid(True)\n",
    "plt.show()"
   ]
  },
  {
   "cell_type": "code",
   "execution_count": null,
   "metadata": {},
   "outputs": [],
   "source": [
    "from pyrost.aberrations_fit import LeastSquares\n",
    "\n",
    "x_min, x_max = 16.5, 35.\n",
    "x_beam = xfocus[(xfocus > x_min) & (xfocus < x_max)]\n",
    "theta = (x_beam - x_min) / params.focus\n",
    "\n",
    "mag = np.abs(wft_focus[(xfocus > x_min) & (xfocus < x_max)])**2\n",
    "phase = np.unwrap(np.angle(wft_focus[(xfocus > x_min) & (xfocus < x_max)]))\n",
    "\n",
    "quad_fit = LeastSquares.fit(theta, phase, max_order=2)[0]\n",
    "aber = phase - LeastSquares.model(quad_fit, theta, (0, x_beam.size))\n",
    "\n",
    "ab_fit = LeastSquares.fit(theta, aber, max_order=4)[0]"
   ]
  },
  {
   "cell_type": "code",
   "execution_count": null,
   "metadata": {},
   "outputs": [],
   "source": [
    "from pyrost.aberrations_fit import LeastSquares\n",
    "\n",
    "# x_min, x_max = 161, 196.\n",
    "x_min, x_max = 143, 171\n",
    "x_beam = x_arr[(x_arr > x_min) & (x_arr < x_max)]\n",
    "theta = (x_beam - x_arr.mean()) / params.focus\n",
    "# theta = (x_arr[(x_arr > x_min) & (x_arr < x_max)]) / params.focus\n",
    "mag = np.abs(ds_beam[:, 99][(x_arr > x_min) & (x_arr < x_max)])**2\n",
    "phase = np.unwrap(np.angle(ds_beam[:, 99][(x_arr > x_min) & (x_arr < x_max)]))\n",
    "\n",
    "quad_fit = LeastSquares.fit(theta, phase, max_order=2)[0]\n",
    "aber = phase - LeastSquares.model(quad_fit, theta, (0, x_beam.size))\n",
    "\n",
    "ab_fit = LeastSquares.fit(theta, aber, max_order=4)[0]"
   ]
  },
  {
   "cell_type": "code",
   "execution_count": null,
   "metadata": {},
   "outputs": [],
   "source": [
    "defocus = quad_fit[-3] * params.wl / np.pi\n",
    "ab_fit[-4] * 1e-9, ab_fit[-5] * 1e-12"
   ]
  },
  {
   "cell_type": "code",
   "execution_count": null,
   "metadata": {},
   "outputs": [],
   "source": [
    "%matplotlib inline\n",
    "\n",
    "fig, axes = plt.subplots(1, 3, figsize=(18, 5))\n",
    "axes[0].plot(theta, mag, label='Multislice')\n",
    "axes[0].set_title('Magnitude, a.u.', fontsize=20)\n",
    "axes[1].plot(theta, phase, label='Multislice')\n",
    "axes[1].plot(theta, LeastSquares.model(quad_fit, theta, (0, x_beam.size)),\n",
    "             label=f'Defocus = {params.focus:.0f} um')\n",
    "axes[1].set_title('Phase, rad.', fontsize=20)\n",
    "axes[2].plot(theta, aber, label='Multislice')\n",
    "axes[2].plot(theta, LeastSquares.model(ab_fit, theta, (0, x_beam.size)),\n",
    "             label=f'$c_3$ = {ab_fit[-4] * 1e-9:.3e} rad / mrad^3\\n$c_4$ = {ab_fit[-5] * 1e-12:.3e} rad / mrad^4')\n",
    "axes[2].set_title('Phase aberrations, rad.', fontsize=20)\n",
    "for ax in axes:\n",
    "    ax.set_xlabel('x coordinate, um', fontsize=20)\n",
    "    ax.tick_params(labelsize=15)\n",
    "    ax.legend(fontsize=15)\n",
    "plt.tight_layout()\n",
    "plt.show()"
   ]
  },
  {
   "cell_type": "code",
   "execution_count": null,
   "metadata": {},
   "outputs": [],
   "source": [
    "z_arr = np.linspace(0.1 * params.focus, 4. * params.focus, 50)\n",
    "ds_beam, x_arr = ms_prgt.beam_downstream(z_arr, 1.5 * params.x_step)"
   ]
  },
  {
   "cell_type": "code",
   "execution_count": null,
   "metadata": {},
   "outputs": [],
   "source": [
    "# from mpl_toolkits.axes_grid1 import make_axes_locatable\n",
    "\n",
    "%matplotlib inline\n",
    "fig, ax = plt.subplots(1, 1, figsize=(12, 6))\n",
    "im1 = ax.imshow(np.abs(ds_beam[::100]), vmin=0.1, vmax=2., cmap='gist_heat_r',\n",
    "                extent=[z_arr.min(), z_arr.max(), x_arr.max(), x_arr.min()])\n",
    "cbar = fig.colorbar(im1, ax=ax, shrink=0.7)\n",
    "cbar.ax.set_ylabel('Normalized intensity, a.u.', fontsize=20)\n",
    "ax.set_title('Beam profile', fontsize=25)\n",
    "ax.set_ylabel(r'x coordinate, $\\mu m$', fontsize=20)\n",
    "ax.set_aspect(20)\n",
    "ax.tick_params(labelsize=15)\n",
    "ax.set_xlabel(r'$z_1, \\mu m$', fontsize=20)\n",
    "ax.grid(True)\n",
    "plt.tight_layout()\n",
    "plt.show()"
   ]
  },
  {
   "cell_type": "markdown",
   "metadata": {},
   "source": [
    "# Beamtime preparation"
   ]
  },
  {
   "cell_type": "code",
   "execution_count": null,
   "metadata": {},
   "outputs": [],
   "source": [
    "data_obj = data_obj.crop_data((0, data.shape[1], 0, 1400))\n",
    "data_obj = data_obj.update_mask(pmax=99.999)\n",
    "\n",
    "size = 5\n",
    "kernel = np.ones(int(size)) / size\n",
    "mean = data_obj.whitefield.copy()\n",
    "mean = fft_convolve(mean, kernel, mode='reflect', axis=0)\n",
    "mean = fft_convolve(mean, kernel, mode='reflect', axis=1)\n",
    "mean_sq = data_obj.whitefield**2\n",
    "mean_sq = fft_convolve(mean_sq, kernel, mode='reflect', axis=0)\n",
    "mean_sq = fft_convolve(mean_sq, kernel, mode='reflect', axis=1)"
   ]
  },
  {
   "cell_type": "code",
   "execution_count": null,
   "metadata": {},
   "outputs": [],
   "source": [
    "r_image = mean_sq - mean**2\n",
    "r_min = np.max(r_image[:, :50])\n",
    "r_max = np.max(r_image)\n",
    "r_image = np.clip(r_image, r_min, r_max) - r_min"
   ]
  },
  {
   "cell_type": "code",
   "execution_count": null,
   "metadata": {},
   "outputs": [],
   "source": [
    "from scipy.ndimage import label, generate_binary_structure, sum_labels\n",
    "\n",
    "s = generate_binary_structure(size, size)\n",
    "labels, num_labels = label(r_image)\n",
    "fbeam_lbl, db_lbl = np.argsort(sum_labels(r_image, labels, np.arange(num_labels + 1)))[-2:]\n",
    "ss_arr, fs_arr = np.where(labels == fbeam_lbl)\n",
    "roi = np.array([ss_arr.min(), ss_arr.max(), fs_arr.min()])"
   ]
  },
  {
   "cell_type": "code",
   "execution_count": null,
   "metadata": {},
   "outputs": [],
   "source": [
    "%matplotlib inline\n",
    "fig, axes = plt.subplots(figsize=(12, 6))\n",
    "# axes.imshow(data_obj.whitefield, vmax=100)\n",
    "axes.imshow(labels == fbeam_lbl, vmax=1)\n",
    "plt.show()"
   ]
  },
  {
   "cell_type": "markdown",
   "metadata": {},
   "source": [
    "# ST Simulation"
   ]
  },
  {
   "cell_type": "code",
   "execution_count": null,
   "metadata": {},
   "outputs": [],
   "source": [
    "params = st_sim.STParams.import_default().replace(bar_size=5.5, bar_sigma=5., bar_atn=0.1,\n",
    "                                                  bulk_atn=0.15, bar_rnd=0.7, p0=1e5, th_s=1.5e-4,\n",
    "                                                  n_frames=100, defocus=120, alpha=0.00, ab_cnt=0.7,\n",
    "                                                  step_size=1, step_rnd=0.8, det_dist=2e6, seed=8457259)\n",
    "\n",
    "globals().update(**params)\n",
    "print(params)"
   ]
  },
  {
   "cell_type": "code",
   "execution_count": null,
   "metadata": {},
   "outputs": [],
   "source": [
    "n_x = params.x_wavefront_size()\n",
    "n_y = params.y_wavefront_size()\n",
    "nx_arr = np.arange(-n_x // 2, n_x // 2)\n",
    "ny_arr = np.arange(-n_y // 2, n_y // 2)\n",
    "lens_wfx, dx0 = params.lens_x_wavefront(return_step=True)\n",
    "lens_wfy, dy0 = params.lens_y_wavefront(return_step=True)\n",
    "print(n_x, n_y)"
   ]
  },
  {
   "cell_type": "code",
   "execution_count": null,
   "metadata": {},
   "outputs": [],
   "source": [
    "%matplotlib inline\n",
    "fig, axes = plt.subplots(1, 2, figsize=(16, 6))\n",
    "axes[0].plot(dx0 * nx_arr, np.abs(lens_wfx))\n",
    "axes[0].set_xlabel('x coordinate, microns', fontsize=15)\n",
    "axes[1].plot(dy0 * ny_arr, np.abs(lens_wfy))\n",
    "axes[1].set_xlabel('y coordinate, microns', fontsize=15)\n",
    "fig.suptitle(\"Wavefronts at the lens' plane\", fontsize=25)\n",
    "for ax in axes:\n",
    "    ax.tick_params(labelsize=15)\n",
    "fig.tight_layout()\n",
    "plt.show()\n",
    "# plt.savefig('figures/lens_wf.pdf')"
   ]
  },
  {
   "cell_type": "code",
   "execution_count": null,
   "metadata": {},
   "outputs": [],
   "source": [
    "pad = 20000\n",
    "wf_x = rsc_wp(np.pad(lens_wfx, (pad, pad)), dx0, 0.007 * dx1, params.focus, params.wl,\n",
    "              num_threads=1, backend='numpy')"
   ]
  },
  {
   "cell_type": "code",
   "execution_count": null,
   "metadata": {},
   "outputs": [],
   "source": [
    "%matplotlib widget\n",
    "roi = (0 + pad + 2000, 52000 + pad + 2000)\n",
    "\n",
    "fig, ax = plt.subplots(figsize=(6, 6))\n",
    "ax.imshow(np.abs(wf_x[roi[0]:roi[1]:10, None] * wf_x[None, roi[0]:roi[1]:10])**2, cmap='gist_heat_r')\n",
    "\n",
    "fig.tight_layout()\n",
    "ax.set_xticks([])\n",
    "ax.set_yticks([])\n",
    "plt.savefig('figures/psf_abbe.pdf', dpi=300)\n",
    "plt.show()"
   ]
  },
  {
   "cell_type": "code",
   "execution_count": null,
   "metadata": {},
   "outputs": [],
   "source": [
    "%matplotlib widget\n",
    "roi = (0 + pad, 52000 + pad)\n",
    "    \n",
    "fig, ax = plt.subplots(figsize=(6, 6))\n",
    "ax.imshow(np.abs(wf_x[roi[0]:roi[1]:10, None] * wf_x[None, roi[0]:roi[1]:10])**2, cmap='gist_heat_r')\n",
    "\n",
    "fig.tight_layout()\n",
    "ax.set_xticks([])\n",
    "ax.set_yticks([])\n",
    "\n",
    "plt.savefig('figures/psf_aberrated.pdf', dpi=300)\n",
    "plt.show()"
   ]
  },
  {
   "cell_type": "code",
   "execution_count": null,
   "metadata": {},
   "outputs": [],
   "source": [
    "caustics = np.stack([rsc_wp(lens_wfx, dx0, dx1, z, params.wl, num_threads=1, backend='numpy')\n",
    "                      for z in np.linspace(params.focus - params.defocus, params.focus + params.defocus, 400)], axis=1)"
   ]
  },
  {
   "cell_type": "code",
   "execution_count": null,
   "metadata": {},
   "outputs": [],
   "source": [
    "caustics.shape"
   ]
  },
  {
   "cell_type": "code",
   "execution_count": null,
   "metadata": {},
   "outputs": [],
   "source": [
    "%matplotlib widget\n",
    "fig, ax = plt.subplots(figsize=(8, 4))\n",
    "ax.imshow(np.abs(caustics)[::10], cmap='gist_heat_r',\n",
    "          extent=[-params.defocus, params.defocus, dx1 * nx_arr.min(), dx1 * nx_arr.max()])\n",
    "ax.set_aspect(2e1)\n",
    "\n",
    "fig.tight_layout()\n",
    "ax.set_xticks([])\n",
    "ax.set_yticks([])\n",
    "plt.savefig('figures/caustics.pdf', dpi=300)\n",
    "# plt.show()"
   ]
  },
  {
   "cell_type": "code",
   "execution_count": null,
   "metadata": {},
   "outputs": [],
   "source": [
    "dx1, dy1 = dx0 * params.defocus / params.focus, dy0\n",
    "z01 = params.focus + params.defocus\n",
    "%time defoc_wfx = rsc_wp(lens_wfx, dx0, dx1, z01, params.wl, num_threads=1, backend='numpy')\n",
    "%time defoc_wfy = rsc_wp(lens_wfy, dy0, dy1, z01, params.wl, num_threads=12, backend='numpy')"
   ]
  },
  {
   "cell_type": "code",
   "execution_count": null,
   "metadata": {},
   "outputs": [],
   "source": [
    "%matplotlib inline\n",
    "fig, axes = plt.subplots(1, 2, figsize=(16, 6))\n",
    "axes[0].plot(dx1 * nx_arr, np.abs(defoc_wfx))\n",
    "axes[0].set_xlabel('x coordinate, microns', fontsize=15)\n",
    "axes[1].plot(dx1 * nx_arr, np.unwrap(np.angle(defoc_wfx)))\n",
    "axes[0].set_xlabel('x coordinate, microns', fontsize=15)\n",
    "fig.suptitle(\"Wavefronts at the sample plane\", fontsize=25)\n",
    "for ax in axes:\n",
    "    ax.tick_params(labelsize=15)\n",
    "fig.tight_layout()\n",
    "plt.show()\n",
    "# plt.savefig('figures/sample_wf.pdf')"
   ]
  },
  {
   "cell_type": "code",
   "execution_count": null,
   "metadata": {},
   "outputs": [],
   "source": [
    "x0, x1 = params.beam_span(params.defocus)\n",
    "x1 += params.step_size * params.n_frames\n",
    "bar_pos = bar_positions(x0 + params.offset, x1 - params.offset, params.bar_size, params.bar_rnd, params.seed)"
   ]
  },
  {
   "cell_type": "code",
   "execution_count": null,
   "metadata": {},
   "outputs": [],
   "source": [
    "nx_arr.shape, params.bar_sigma / dx1"
   ]
  },
  {
   "cell_type": "code",
   "execution_count": null,
   "metadata": {},
   "outputs": [],
   "source": [
    "smp_pos = params.sample_positions()\n",
    "\n",
    "overlap = int(params.bar_sigma / dx1)\n",
    "# nx_ext = np.arange(-(n_x + overlap) // 2, (n_x + overlap) // 2)\n",
    "x_arr = dx1 * nx_arr + smp_pos[:, None]\n",
    "\n",
    "%time b_tr = barcode_profile(x_arr=x_arr, bars=bar_pos, bulk_atn=params.bulk_atn, \\\n",
    "                             bar_atn=params.bar_atn, bar_sigma=0.0, \\\n",
    "                             num_threads=64)\n",
    "b_tr = gaussian_filter(b_tr, (0.0, params.bar_sigma / dx1), num_threads=64, mode='nearest')\n",
    "# b_tr = gaussian_filter(b_tr, (0.0, params.bar_sigma / dx1), num_threads=64, mode='nearest')[:, overlap // 2:-overlap // 2]\n",
    "# b_tr = b_tr[:, overlap // 2:-overlap // 2]\n",
    "smp_wfx = defoc_wfx * b_tr"
   ]
  },
  {
   "cell_type": "code",
   "execution_count": null,
   "metadata": {},
   "outputs": [],
   "source": [
    "%matplotlib inline\n",
    "fig, ax = plt.subplots(figsize=(12, 6))\n",
    "ax.plot(np.abs(b_tr[0]))\n",
    "plt.show()"
   ]
  },
  {
   "cell_type": "code",
   "execution_count": null,
   "metadata": {},
   "outputs": [],
   "source": [
    "dx2, dy2 = params.detx_size * params.pix_size / n_x, params.dety_size * params.pix_size / n_y\n",
    "%time det_wfx = fraunhofer_wp(smp_wfx, dx1, dx2, params.det_dist, params.wl, num_threads=12, backend='fftw')\n",
    "%time det_wfy = fraunhofer_wp(defoc_wfy, dy1, dy2, params.det_dist, params.wl, num_threads=12, backend='fftw')\n",
    "print(smp_wfx.shape, det_wfx.shape)"
   ]
  },
  {
   "cell_type": "code",
   "execution_count": null,
   "metadata": {},
   "outputs": [],
   "source": [
    "%matplotlib inline\n",
    "fig, axes = plt.subplots(1, 2, figsize=(16, 6))\n",
    "axes[0].plot(dx2 * nx_arr * 1e-3, np.abs(det_wfx[2]))\n",
    "axes[0].set_xlabel('x coordinate, mm', fontsize=15)\n",
    "axes[1].plot(dy2 * ny_arr * 1e-3, np.abs(det_wfy))\n",
    "axes[1].set_xlabel('y coordinate, mm', fontsize=15)\n",
    "fig.suptitle(\"Wavefronts at the detector plane\", fontsize=25)\n",
    "for ax in axes:\n",
    "    ax.tick_params(labelsize=15)\n",
    "fig.tight_layout()\n",
    "plt.show()\n",
    "# plt.savefig('figures/det_wf.pdf')"
   ]
  },
  {
   "cell_type": "code",
   "execution_count": null,
   "metadata": {},
   "outputs": [],
   "source": [
    "sc_x = params.source_curve(params.defocus + params.det_dist, dx2)\n",
    "sc_y = params.source_curve(params.defocus + params.det_dist, dy2)\n",
    "pfx = np.sqrt(params.p0) / params.ap_x * np.abs(det_wfx)**2\n",
    "pfy = np.sqrt(params.p0) / params.ap_y * np.abs(det_wfy)**2\n",
    "print(pfx.shape, sc_x.shape)\n",
    "%time det_ix = fft_convolve(pfx, sc_x, num_threads=12, backend='fftw')\n",
    "%time det_iy = fft_convolve(pfy, sc_y, num_threads=12, backend='fftw')\n",
    "# print(det_ix.shape, det_iy.shape)"
   ]
  },
  {
   "cell_type": "code",
   "execution_count": null,
   "metadata": {},
   "outputs": [],
   "source": [
    "%matplotlib inline\n",
    "fig, axes = plt.subplots(1, 2, figsize=(16, 6))\n",
    "axes[0].plot(dx2 * nx_arr * 1e-3, det_ix[62])\n",
    "axes[0].set_xlabel('x coordinate, mm', fontsize=15)\n",
    "axes[1].plot(dy2 * ny_arr * 1e-3, det_iy)\n",
    "axes[1].set_xlabel('y coordinate, mm', fontsize=15)\n",
    "fig.suptitle(\"Wavefronts at the detector plane\", fontsize=25)\n",
    "for ax in axes:\n",
    "    ax.tick_params(labelsize=15)\n",
    "fig.tight_layout()\n",
    "plt.show()\n",
    "# plt.savefig('figures/det_int.pdf')"
   ]
  },
  {
   "cell_type": "code",
   "execution_count": null,
   "metadata": {},
   "outputs": [],
   "source": [
    "wfx = np.ones(params.detx_size)\n",
    "wfy = np.ones(params.dety_size)\n",
    "%time frames = make_frames(pfx=det_ix, pfy=det_iy, dx=dx2, dy=dy2, \\\n",
    "                           shape=(params.dety_size, params.detx_size), \\\n",
    "                           seed=params.seed, num_threads=64)\n",
    "%time wfield = median(frames, axis=0, num_threads=64)\n",
    "# frames.shape, wfield.shape"
   ]
  },
  {
   "cell_type": "code",
   "execution_count": null,
   "metadata": {},
   "outputs": [],
   "source": [
    "%matplotlib notebook\n",
    "fig, axes = plt.subplots(figsize=(12, 6))\n",
    "axes.imshow(frames.sum(axis=1))\n",
    "axes.set_aspect(5)\n",
    "plt.show()"
   ]
  },
  {
   "cell_type": "code",
   "execution_count": null,
   "metadata": {},
   "outputs": [],
   "source": [
    "dir_path = 'results/test'\n",
    "os.makedirs(dir_path, exist_ok=True)\n",
    "\n",
    "data = dev.make_frames(i_x=i0 * np.abs(wf1_x * det_c)**2, i_y=(np.abs(wf1_y)**2).sum() * np.ones(1),\n",
    "                       sc_x=s_arr, sc_y=np.ones(1), pix_size=pix_size, noise=True)\n",
    "\n",
    "st_params = st_sim.STParams.import_dict(**globals())\n",
    "ini_parser = st_params.export_ini()\n",
    "with open(os.path.join(dir_path, 'parameters.ini'), 'w') as file:\n",
    "    ini_parser.write(file)\n",
    "    \n",
    "st_converter = st_sim.STConverter()\n",
    "st_converter.save(data, st_params, dir_path, roi=roi)"
   ]
  },
  {
   "cell_type": "code",
   "execution_count": null,
   "metadata": {},
   "outputs": [],
   "source": [
    "dir_path = 'results/test_ideal'\n",
    "os.makedirs(dir_path, exist_ok=True)\n",
    "\n",
    "data = dev.make_frames(i_x=i0 * np.abs(wf1_x * det_c)**2, i_y=(np.abs(wf1_y)**2).sum() * np.ones(1),\n",
    "                       sc_x=s_arr, sc_y=np.ones(1), pix_size=pix_size, noise=False)\n",
    "\n",
    "st_params = st_sim.STParams.import_dict(**globals())\n",
    "ini_parser = st_params.export_ini()\n",
    "with open(os.path.join(dir_path, 'parameters.ini'), 'w') as file:\n",
    "    ini_parser.write(file)\n",
    "    \n",
    "st_converter = st_sim.STConverter()\n",
    "st_converter.save(data, st_params, dir_path, roi=roi)"
   ]
  },
  {
   "cell_type": "markdown",
   "metadata": {},
   "source": [
    "# Prototyping"
   ]
  },
  {
   "cell_type": "code",
   "execution_count": null,
   "metadata": {},
   "outputs": [],
   "source": [
    "if sys.modules.get('dev'): # Maybe sys.modules is better?\n",
    "    dev = sys.modules.get('dev')\n",
    "    dev = reload(dev)\n",
    "else:\n",
    "    import dev\n",
    "print(dir(dev))"
   ]
  },
  {
   "cell_type": "code",
   "execution_count": null,
   "metadata": {},
   "outputs": [],
   "source": [
    "params = st_sim.STParams.import_default(bar_size=0.5, bar_sigma=0.4, bar_atn=0.319,\n",
    "                                        bulk_atn=0.15, rnd_dev=0.7, p0=1.5e4, th_s=2.5e-4,\n",
    "                                        n_frames=100, defocus=120, alpha=0.1, ab_cnt=0.5,\n",
    "                                        step_size=0.2, step_rnd=0.8, distance=2e6, seed=8457259,\n",
    "                                        det_dist=4.9e6, ap_x=20)\n",
    "st_conv = st_sim.STConverter()\n",
    "%time sim_obj = st_sim.STSim(params, backend='numpy')\n",
    "data = st_conv.export_data(sim_obj.ptychograph(), sim_obj)"
   ]
  },
  {
   "cell_type": "code",
   "execution_count": null,
   "metadata": {},
   "outputs": [],
   "source": [
    "mll_mat1 = ms_sim.Material(formula='SiC', density=2.67)\n",
    "mll_mat2 = ms_sim.Material(formula='WC', density=13.87)\n",
    "print(1 - np.exp(-2 * np.pi / params.wl *\n",
    "                 mll_mat2.get_ref_index(ms_sim.Material.en_to_wl / params.wl * 1e-4).imag * 6.16))\n",
    "print(1 - np.exp(-2 * np.pi / params.wl *\n",
    "                 mll_mat2.get_ref_index(ms_sim.Material.en_to_wl / params.wl * 1e-4).imag * 4.16 * 0.6))"
   ]
  },
  {
   "cell_type": "code",
   "execution_count": null,
   "metadata": {},
   "outputs": [],
   "source": [
    "%matplotlib notebook\n",
    "fig, ax = plt.subplots(figsize=(10, 4))\n",
    "# ax.plot(data.get('whitefield')[0])\n",
    "ax.imshow(data.get('data')[:, 0], vmax=20)\n",
    "ax.set_aspect(3)\n",
    "plt.tight_layout()\n",
    "plt.show()"
   ]
  },
  {
   "cell_type": "code",
   "execution_count": null,
   "metadata": {},
   "outputs": [],
   "source": [
    "st_obj = data.get_st()\n",
    "\n",
    "st_obj = st_obj.update_reference(hval=80.0)\n",
    "st_res = st_obj.iter_update_gd(sw_x=20, h0=80., blur=32.0, verbose=True, n_iter=40)"
   ]
  },
  {
   "cell_type": "code",
   "execution_count": null,
   "metadata": {},
   "outputs": [],
   "source": [
    "%matplotlib inline\n",
    "fig, axes = plt.subplots(1, 2, figsize=(16, 6))\n",
    "axes[0].plot(st_res.reference_image[0], label='Dynamic h')\n",
    "axes[0].plot(st_obj.reference_image[0], label='Initial')\n",
    "axes[1].plot((st_res.pixel_map - st_obj.pixel_map)[1, 0] - \n",
    "             (st_res.pixel_map - st_obj.pixel_map)[1, 0].mean(), label='Static h')\n",
    "axes[0].set_title('Reference image', fontsize=20)\n",
    "axes[1].set_title('Pixel map', fontsize=20)\n",
    "for ax in axes:\n",
    "    ax.legend(fontsize=15)\n",
    "    ax.tick_params(labelsize=15)\n",
    "    ax.set_xlabel('horizontal axis, pixels', fontsize=15)\n",
    "    ax.grid(True)\n",
    "plt.tight_layout()\n",
    "plt.show()"
   ]
  },
  {
   "cell_type": "code",
   "execution_count": null,
   "metadata": {},
   "outputs": [],
   "source": [
    "data.update_phase(st_res)\n",
    "fit_obj = data.get_fit()\n",
    "fit_obj.defocus = np.abs(fit_obj.defocus)\n",
    "fit = fit_obj.fit()\n",
    "ph_fit = fit_obj.fit_phase()"
   ]
  },
  {
   "cell_type": "code",
   "execution_count": null,
   "metadata": {},
   "outputs": [],
   "source": [
    "%matplotlib inline\n",
    "fig, axes = plt.subplots(1, 2, figsize=(16, 6))\n",
    "axes[0].plot((fit_obj.pixels - fit_obj.pixels[0]) * fit_obj.det_ap,\n",
    "             fit_obj.pixel_aberrations * fit_obj.det_ap * fit_obj.defocus * 1e9,\n",
    "             label='Sigray', c='r')\n",
    "axes[0].plot((fit_obj.pixels - fit_obj.pixels[0]) * fit_obj.det_ap,\n",
    "             fit_obj.model(fit['fit']) * fit_obj.det_ap * fit_obj.defocus * 1e9,\n",
    "             label=r'Sigray, $\\alpha$ = ' + '{:.4f}'.format(fit['c_3']),\n",
    "             c='r', linestyle='dashed', dashes=(8, 8))\n",
    "axes[0].set_ylabel('aberrations in the sample plane, nm', fontsize=15)\n",
    "axes[1].plot((fit_obj.pixels - fit_obj.pixels[0]) * fit_obj.det_ap,\n",
    "             fit_obj.phase, label='Sigray', c='r')\n",
    "axes[1].plot((fit_obj.pixels - fit_obj.pixels[0]) * fit_obj.det_ap, fit_obj.model(ph_fit['ph_fit']), \n",
    "             label=r'Sigray, $\\alpha$ = ' + '{:.4f}'.format(fit['c_3']),\n",
    "             c='r', linestyle='dashed', dashes=(8, 8))\n",
    "axes[1].set_ylabel('Phase, rad', fontsize=15)\n",
    "for ax in axes:\n",
    "    ax.set_xlabel('2 Theta, rad', fontsize=15)\n",
    "    ax.tick_params(labelsize=15)\n",
    "    ax.legend(fontsize=15)\n",
    "plt.tight_layout()\n",
    "plt.show()"
   ]
  }
 ],
 "metadata": {
  "interpreter": {
   "hash": "c08c71985e0cbb97854e97cbff036c5bf07e7212183e65ba5caeb9de8f160c70"
  },
  "kernelspec": {
   "display_name": "pyrost",
   "language": "python",
   "name": "pyrost"
  },
  "language_info": {
   "codemirror_mode": {
    "name": "ipython",
    "version": 3
   },
   "file_extension": ".py",
   "mimetype": "text/x-python",
   "name": "python",
   "nbconvert_exporter": "python",
   "pygments_lexer": "ipython3",
   "version": "3.8.18"
  }
 },
 "nbformat": 4,
 "nbformat_minor": 4
}
