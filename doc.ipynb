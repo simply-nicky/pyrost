{
 "cells": [
  {
   "cell_type": "code",
   "execution_count": null,
   "metadata": {},
   "outputs": [],
   "source": [
    "import pyrost as rst\n",
    "import pyrost.simulation as st_sim\n",
    "import numpy as np\n",
    "import matplotlib.pyplot as plt\n",
    "import os"
   ]
  },
  {
   "cell_type": "markdown",
   "metadata": {},
   "source": [
    "# Performing a multislice beam propagation"
   ]
  },
  {
   "cell_type": "code",
   "execution_count": null,
   "metadata": {},
   "outputs": [],
   "source": [
    "import pyrost.multislice as ms_sim\n",
    "params = ms_sim.MSParams.import_default()\n",
    "params = params.replace(x_step=5e-5, z_step=5e-3, n_min=100, n_max=5000,\n",
    "                        focus=1.5e3, mll_sigma=5e-5, mll_wl=6.2e-5, wl=6.2e-5,\n",
    "                        x_max=30.0, mll_depth=5.0)"
   ]
  },
  {
   "cell_type": "code",
   "execution_count": null,
   "metadata": {},
   "outputs": [],
   "source": [
    "mll = ms_sim.MLL.import_params(params)"
   ]
  },
  {
   "cell_type": "code",
   "execution_count": null,
   "metadata": {},
   "outputs": [],
   "source": [
    "ms_prgt = ms_sim.MSPropagator(params, mll)\n",
    "ms_prgt.beam_propagate()"
   ]
  },
  {
   "cell_type": "code",
   "execution_count": null,
   "metadata": {},
   "outputs": [],
   "source": [
    "z_arr = np.linspace(0.2 * params.focus, 2.0 * params.focus, 300)\n",
    "ds_beam, x_arr = ms_prgt.beam_downstream(z_arr, step=4.0 * params.x_step)"
   ]
  },
  {
   "cell_type": "code",
   "execution_count": null,
   "metadata": {},
   "outputs": [],
   "source": [
    "fig, ax = plt.subplots(1, 1, figsize=(12, 6))\n",
    "im1 = ax.imshow(np.abs(ds_beam[::10]), vmax=3., cmap='gist_heat_r',\n",
    "                extent=[z_arr.min(), z_arr.max(), x_arr.min(), x_arr.max()])\n",
    "cbar = fig.colorbar(im1, ax=ax, shrink=0.7)\n",
    "cbar.ax.set_ylabel('Normalized intensity, a.u.', fontsize=20)\n",
    "ax.set_ylabel(r'x coordinate, $\\mu m$', fontsize=20)\n",
    "ax.set_aspect(10)\n",
    "ax.tick_params(labelsize=15)\n",
    "ax.set_xlabel(r'$z_1, \\mu m$', fontsize=20)\n",
    "ax.set_title('Beam profile', fontsize=25)\n",
    "plt.show()"
   ]
  },
  {
   "cell_type": "markdown",
   "metadata": {},
   "source": [
    "# Speckle tracking reconstruction of a 2d dataset"
   ]
  },
  {
   "cell_type": "code",
   "execution_count": null,
   "metadata": {},
   "outputs": [],
   "source": [
    "# OS X\n",
    "!mkdir -p results/exp\n",
    "!curl https://www.cxidb.org/data/134/diatom.cxi -o results/exp/diatom.cxi"
   ]
  },
  {
   "cell_type": "code",
   "execution_count": null,
   "metadata": {},
   "outputs": [],
   "source": [
    "# Linux\n",
    "!wget -P results/exp \"https://www.cxidb.org/data/134/diatom.cxi\""
   ]
  },
  {
   "cell_type": "code",
   "execution_count": null,
   "metadata": {},
   "outputs": [],
   "source": [
    "!h5ls -r results/exp/diatom.cxi"
   ]
  },
  {
   "cell_type": "code",
   "execution_count": null,
   "metadata": {},
   "outputs": [],
   "source": [
    "protocol = rst.CXIProtocol.import_default()"
   ]
  },
  {
   "cell_type": "code",
   "execution_count": null,
   "metadata": {},
   "outputs": [],
   "source": [
    "inp_file = rst.CXIStore('results/exp/diatom.cxi', protocol=protocol)"
   ]
  },
  {
   "cell_type": "code",
   "execution_count": null,
   "metadata": {},
   "outputs": [],
   "source": [
    "out_file = rst.CXIStore('results/exp/diatom_proc.cxi', mode='a',\n",
    "                        protocol=protocol)"
   ]
  },
  {
   "cell_type": "code",
   "execution_count": null,
   "metadata": {},
   "outputs": [],
   "source": [
    "data = rst.STData(input_file=inp_file, output_file=out_file)"
   ]
  },
  {
   "cell_type": "code",
   "execution_count": null,
   "metadata": {},
   "outputs": [],
   "source": [
    "inp_file.keys()"
   ]
  },
  {
   "cell_type": "code",
   "execution_count": null,
   "metadata": {},
   "outputs": [],
   "source": [
    "data = data.load(processes=4)"
   ]
  },
  {
   "cell_type": "code",
   "execution_count": null,
   "metadata": {},
   "outputs": [],
   "source": [
    "crop = rst.Crop(roi=[80, 420, 60, 450])\n",
    "data = data.update_transform(transform=crop)"
   ]
  },
  {
   "cell_type": "code",
   "execution_count": null,
   "metadata": {},
   "outputs": [],
   "source": [
    "data = data.update_mask(method='range-bad', vmax=2e3)\n",
    "data = data.mask_frames(frames=np.arange(1, 121))"
   ]
  },
  {
   "cell_type": "code",
   "execution_count": null,
   "metadata": {},
   "outputs": [],
   "source": [
    "defoci = np.linspace(2e-3, 3e-3, 50)\n",
    "sweep_scan = data.defocus_sweep(defoci, size=5, hval=1.5)\n",
    "defocus = defoci[np.argmax(sweep_scan)]\n",
    "print(defocus)"
   ]
  },
  {
   "cell_type": "code",
   "execution_count": null,
   "metadata": {},
   "outputs": [],
   "source": [
    "%matplotlib widget\n",
    "fig, ax = plt.subplots(figsize=(8, 4))\n",
    "ax.plot(defoci * 1e3, sweep_scan)\n",
    "ax.set_xlabel('Defocus distance, [mm]', fontsize=15)\n",
    "ax.set_title('Average gradient magnitude squared', fontsize=20)\n",
    "ax.grid(True)\n",
    "ax.tick_params(labelsize=10)\n",
    "plt.tight_layout()\n",
    "plt.show()\n",
    "# plt.savefig('docs/figures/sweep_scan.png', dpi=300)"
   ]
  },
  {
   "cell_type": "code",
   "execution_count": null,
   "metadata": {},
   "outputs": [],
   "source": [
    "data = data.update_defocus(defocus)\n",
    "# data = data.update_defocus(0.002204081632653061)"
   ]
  },
  {
   "cell_type": "code",
   "execution_count": null,
   "metadata": {},
   "outputs": [],
   "source": [
    "st_obj = data.get_st(ds_x=3.0, ds_y=3.0)"
   ]
  },
  {
   "cell_type": "code",
   "execution_count": null,
   "metadata": {},
   "outputs": [],
   "source": [
    "h_vals = np.linspace(0.5, 3.0, 25)\n",
    "cv_vals = st_obj.CV_curve(h_vals)"
   ]
  },
  {
   "cell_type": "code",
   "execution_count": null,
   "metadata": {},
   "outputs": [],
   "source": [
    "fig, ax = plt.subplots(figsize=(8, 4))\n",
    "ax.plot(h_vals, cv_vals)\n",
    "ax.set_xlabel('Kernel bandwidth', fontsize=15)\n",
    "ax.set_title('Cross-validation', fontsize=20)\n",
    "ax.tick_params(labelsize=10)\n",
    "ax.grid(True)\n",
    "plt.tight_layout()\n",
    "plt.show()\n",
    "# plt.savefig('docs/figures/cv_curve.png', dpi=300)"
   ]
  },
  {
   "cell_type": "code",
   "execution_count": null,
   "metadata": {},
   "outputs": [],
   "source": [
    "st_obj = data.get_st(ds_x=3.0, ds_y=3.0)\n",
    "st_obj = st_obj.create_initial()\n",
    "h0 = st_obj.find_hopt(verbose=True)\n",
    "print(h0)"
   ]
  },
  {
   "cell_type": "code",
   "execution_count": null,
   "metadata": {},
   "outputs": [],
   "source": [
    "st_obj = st_obj.update_reference(hval=0.7)"
   ]
  },
  {
   "cell_type": "code",
   "execution_count": null,
   "metadata": {},
   "outputs": [],
   "source": [
    "st_res = st_obj.train_adapt(search_window=(2.0, 2.0, 0.1), h0=h0, blur=16.0, n_iter=10,\n",
    "                            pm_method='rsearch', pm_args={'n_trials': 50, 'strides': (4, 4)},\n",
    "                            options={'momentum': 0.3})"
   ]
  },
  {
   "cell_type": "code",
   "execution_count": null,
   "metadata": {},
   "outputs": [],
   "source": [
    "fig, ax = plt.subplots(figsize=(8, 6))\n",
    "ax.imshow(st_res.reference_image[233:400, 33:233], vmin=0.7, vmax=1.3,\n",
    "          extent=[33, 233, 400, 233])\n",
    "ax.set_title('Reference image', fontsize=20)\n",
    "ax.set_xlabel('horizontal axis', fontsize=15)\n",
    "ax.set_ylabel('vertical axis', fontsize=15)\n",
    "ax.tick_params(labelsize=15)\n",
    "plt.tight_layout()\n",
    "plt.show()\n",
    "# plt.savefig('docs/figures/diatom_image.png', dpi=150)"
   ]
  },
  {
   "cell_type": "code",
   "execution_count": null,
   "metadata": {},
   "outputs": [],
   "source": [
    "data.import_st(st_res)\n",
    "fit_obj_ss = data.get_fit(axis=0)\n",
    "fit_ss = fit_obj_ss.fit(max_order=3)\n",
    "fit_obj_fs = data.get_fit(axis=1)\n",
    "fit_fs = fit_obj_fs.fit(max_order=3)"
   ]
  },
  {
   "cell_type": "code",
   "execution_count": null,
   "metadata": {},
   "outputs": [],
   "source": [
    "fig, ax = plt.subplots(figsize=(8, 8))\n",
    "ax.imshow(data.get('phase'))\n",
    "ax.set_title('Phase', fontsize=20)\n",
    "ax.set_xlabel('horizontal axis', fontsize=15)\n",
    "ax.set_ylabel('vertical axis', fontsize=15)\n",
    "ax.tick_params(labelsize=15)\n",
    "plt.tight_layout()\n",
    "plt.show()\n",
    "# plt.savefig('docs/figures/diatom_phase.png', dpi=150)"
   ]
  },
  {
   "cell_type": "code",
   "execution_count": null,
   "metadata": {},
   "outputs": [],
   "source": [
    "fig, axes = plt.subplots(1, 2, figsize=(8, 3))\n",
    "axes[0].plot(fit_obj_fs.pixels, fit_obj_fs.phase, label='Reconstructed profile')\n",
    "axes[0].plot(fit_obj_fs.pixels, fit_obj_fs.model(fit_fs['ph_fit']), linestyle='dashed',\n",
    "             label='Polynomial fit')\n",
    "axes[0].set_xlabel('Horizontal axis', fontsize=15)\n",
    "axes[1].plot(fit_obj_ss.pixels, fit_obj_ss.phase, label='Reconstructed profile')\n",
    "axes[1].plot(fit_obj_ss.pixels, fit_obj_ss.model(fit_ss['ph_fit']), linestyle='dashed',\n",
    "             label='Polynomial fit')\n",
    "axes[1].set_xlabel('Horizontal axis', fontsize=15)\n",
    "for ax in axes:\n",
    "    ax.set_title('Phase', fontsize=15)\n",
    "    ax.tick_params(labelsize=10)\n",
    "    ax.legend(loc='lower left', fontsize=10)\n",
    "    ax.grid(True)\n",
    "plt.tight_layout()\n",
    "plt.show()\n",
    "# plt.savefig('docs/figures/phase_fit.png', dpi=300)"
   ]
  },
  {
   "cell_type": "code",
   "execution_count": null,
   "metadata": {},
   "outputs": [],
   "source": [
    "data.save(mode='overwrite')"
   ]
  },
  {
   "cell_type": "code",
   "execution_count": null,
   "metadata": {},
   "outputs": [],
   "source": [
    "!h5ls -r results/exp/diatom_proc.cxi"
   ]
  },
  {
   "cell_type": "markdown",
   "metadata": {},
   "source": [
    "# Generating a speckle tracking dataset"
   ]
  },
  {
   "cell_type": "code",
   "execution_count": null,
   "metadata": {},
   "outputs": [],
   "source": [
    "params = st_sim.STParams.import_default()\n",
    "params = params.replace(bar_size=0.7, bar_sigma=0.12, bar_atn=0.18,\n",
    "                        bulk_atn=0.2, p0=5e4, th_s=8e-5, n_frames=100,\n",
    "                        offset=2.0, step_size=0.1, defocus=150, alpha=0.05,\n",
    "                        ab_cnt=0.7, bar_rnd=0.8)"
   ]
  },
  {
   "cell_type": "code",
   "execution_count": null,
   "metadata": {},
   "outputs": [],
   "source": [
    "protocol = rst.CXIProtocol.import_default()"
   ]
  },
  {
   "cell_type": "code",
   "execution_count": null,
   "metadata": {},
   "outputs": [],
   "source": [
    "sim_obj = st_sim.STSim(params)\n",
    "ptych = sim_obj.ptychograph()\n",
    "st_conv = st_sim.STConverter(sim_obj, ptych)\n",
    "st_conv.save('results/sim.cxi', mode='overwrite')"
   ]
  },
  {
   "cell_type": "code",
   "execution_count": null,
   "metadata": {},
   "outputs": [],
   "source": [
    "!rm -rf results/sim.cxi"
   ]
  },
  {
   "cell_type": "code",
   "execution_count": null,
   "metadata": {},
   "outputs": [],
   "source": [
    "!h5ls -r results/sim.cxi"
   ]
  },
  {
   "cell_type": "code",
   "execution_count": null,
   "metadata": {},
   "outputs": [],
   "source": [
    "sim_obj = st_sim.STSim(params)\n",
    "ptych = sim_obj.ptychograph()\n",
    "st_conv = st_sim.STConverter(sim_obj, ptych)\n",
    "data = st_conv.export_data('results/sim.cxi')\n",
    "data = data.load()"
   ]
  },
  {
   "cell_type": "code",
   "execution_count": null,
   "metadata": {},
   "outputs": [],
   "source": [
    "%%bash\n",
    "source /software/anaconda3/5.2/bin/activate pyrost\n",
    "python -m pyrost.simulation --help"
   ]
  },
  {
   "cell_type": "code",
   "execution_count": null,
   "metadata": {},
   "outputs": [],
   "source": [
    "%%bash\n",
    "source /software/anaconda3/5.2/bin/activate pyrost\n",
    "python -m pyrost.simulation results/sim.cxi --bar_size 0.7 --bar_sigma 0.12 \\\n",
    "    --bar_atn 0.18 --bulk_atn 0.2 --p0 5e4 --th_s 8e-5 --n_frames 200 --offset 2 \\\n",
    "    --step_size 0.1 --defocus 150 --alpha 0.05 --ab_cnt 0.7 --bar_rnd 0.8 -p"
   ]
  },
  {
   "cell_type": "code",
   "execution_count": null,
   "metadata": {},
   "outputs": [],
   "source": [
    "!h5ls -r results/sim.cxi"
   ]
  },
  {
   "cell_type": "markdown",
   "metadata": {},
   "source": [
    "# Speckle tracking reconstruction of a simulated dataset"
   ]
  },
  {
   "cell_type": "code",
   "execution_count": null,
   "metadata": {},
   "outputs": [],
   "source": [
    "protocol = rst.CXIProtocol.import_default()\n",
    "inp_file = rst.CXIStore('results/sim.cxi', protocol=protocol)\n",
    "out_file = rst.CXIStore('results/sim.cxi', mode='a', protocol=protocol)\n",
    "data = rst.STData(input_file=inp_file, output_file=out_file)\n",
    "data = data.load()"
   ]
  },
  {
   "cell_type": "code",
   "execution_count": null,
   "metadata": {},
   "outputs": [],
   "source": [
    "data.contents()"
   ]
  },
  {
   "cell_type": "code",
   "execution_count": null,
   "metadata": {},
   "outputs": [],
   "source": [
    "st_obj = data.get_st()\n",
    "h0 = st_obj.find_hopt()\n",
    "st_res = st_obj.train_adapt(search_window=(0.0, 10.0, 0.1), h0=h0, blur=8.0)"
   ]
  },
  {
   "cell_type": "code",
   "execution_count": null,
   "metadata": {},
   "outputs": [],
   "source": [
    "fig, axes = plt.subplots(1, 2, figsize=(8, 3))\n",
    "axes[0].plot(np.arange(st_res.reference_image.shape[1]) - st_res.ref_orig[1],\n",
    "             st_res.reference_image[0])\n",
    "axes[0].set_title('Reference image', fontsize=20)\n",
    "axes[1].plot((st_res.pixel_map - st_obj.pixel_map)[1, 0])\n",
    "axes[1].set_title('Pixel mapping', fontsize=20)\n",
    "for ax in axes:\n",
    "    ax.tick_params(labelsize=10)\n",
    "    ax.set_xlabel('Fast axis, pixels', fontsize=15)\n",
    "    ax.grid(True)\n",
    "plt.tight_layout()\n",
    "plt.show()\n",
    "# plt.savefig('docs/figures/1d_sim_res.png', dpi=300)"
   ]
  },
  {
   "cell_type": "code",
   "execution_count": null,
   "metadata": {},
   "outputs": [],
   "source": [
    "data.import_st(st_res)"
   ]
  },
  {
   "cell_type": "code",
   "execution_count": null,
   "metadata": {},
   "outputs": [],
   "source": [
    "fit_obj = data.get_fit(axis=1, center=20)\n",
    "fit_obj = fit_obj.remove_linear_term()\n",
    "fit = fit_obj.fit(max_order=2)\n",
    "print(fit['c_3'])"
   ]
  },
  {
   "cell_type": "code",
   "execution_count": null,
   "metadata": {},
   "outputs": [],
   "source": [
    "fig, axes = plt.subplots(1, 2, figsize=(8, 3))\n",
    "axes[0].plot(fit_obj.pixels, fit_obj.pixel_aberrations)\n",
    "axes[0].plot(fit_obj.pixels, fit_obj.model(fit['fit']))\n",
    "axes[0].set_title('Pixel aberrations', fontsize=20)\n",
    "axes[1].plot(fit_obj.pixels, fit_obj.phase)\n",
    "axes[1].plot(fit_obj.pixels, fit_obj.model(fit['ph_fit']),\n",
    "             label=fr\"$\\alpha$ = {fit['c_3'][0]:.5f} rad/mrad^3\")\n",
    "axes[1].set_title('Phase', fontsize=20)\n",
    "axes[1].legend(fontsize=10)\n",
    "for ax in axes:\n",
    "    ax.tick_params(axis='both', which='major', labelsize=10)\n",
    "    ax.set_xlabel('horizontal axis', fontsize=15)\n",
    "    ax.grid(True)\n",
    "plt.tight_layout()\n",
    "plt.show()\n",
    "# plt.savefig('docs/figures/1d_sim_fits.png', dpi=300)"
   ]
  },
  {
   "cell_type": "code",
   "execution_count": null,
   "metadata": {},
   "outputs": [],
   "source": [
    "data.save(mode='overwrite')"
   ]
  },
  {
   "cell_type": "code",
   "execution_count": null,
   "metadata": {},
   "outputs": [],
   "source": [
    "! h5ls -r results/sim.cxi"
   ]
  },
  {
   "cell_type": "markdown",
   "metadata": {},
   "source": [
    "# Processing a wavefront metrology experiment"
   ]
  },
  {
   "cell_type": "code",
   "execution_count": null,
   "metadata": {},
   "outputs": [],
   "source": [
    "scan_num = 2989\n",
    "log_path = f'/gpfs/cfel/group/cxi/labs/MLL-Sigray/scan-logs/Scan_{scan_num:d}.log'\n",
    "data_dir = f'/gpfs/cfel/group/cxi/labs/MLL-Sigray/scan-frames/Scan_{scan_num:d}'\n",
    "data_files = sorted([os.path.join(data_dir, path) for path in os.listdir(data_dir)\n",
    "                     if path.endswith('Lambda.nxs')])\n",
    "wl_dict = {'Mo': 7.092917530503447e-11,\n",
    "           'Cu': 1.5498024804150033e-10,\n",
    "           'Rh': 6.137831605603974e-11}"
   ]
  },
  {
   "cell_type": "code",
   "execution_count": null,
   "metadata": {},
   "outputs": [],
   "source": [
    "converter = rst.KamzikConverter()\n",
    "converter = converter.read_logs(log_path)"
   ]
  },
  {
   "cell_type": "code",
   "execution_count": null,
   "metadata": {},
   "outputs": [],
   "source": [
    "rst.KamzikConverter()"
   ]
  },
  {
   "cell_type": "code",
   "execution_count": null,
   "metadata": {},
   "outputs": [],
   "source": [
    "converter.cxi_keys()"
   ]
  },
  {
   "cell_type": "code",
   "execution_count": null,
   "metadata": {},
   "outputs": [],
   "source": [
    "log_data = converter.cxi_get(['basis_vectors', 'log_translations'])"
   ]
  },
  {
   "cell_type": "code",
   "execution_count": null,
   "metadata": {},
   "outputs": [],
   "source": [
    "input_file = rst.CXIStore(data_files)\n",
    "data = rst.STData(input_file, **log_data, distance=2.0, wavelength=wl_dict['Mo'])"
   ]
  },
  {
   "cell_type": "code",
   "execution_count": null,
   "metadata": {},
   "outputs": [],
   "source": [
    "data.contents()"
   ]
  },
  {
   "cell_type": "code",
   "execution_count": null,
   "metadata": {},
   "outputs": [],
   "source": [
    "data = data.load('data')"
   ]
  },
  {
   "cell_type": "code",
   "execution_count": null,
   "metadata": {},
   "outputs": [],
   "source": [
    "%matplotlib widget\n",
    "fig, ax = plt.subplots(figsize=(8, 3))\n",
    "ax.imshow(data.data[0], vmax=100)\n",
    "ax.set_title('Frame 0', fontsize=20)\n",
    "ax.tick_params(labelsize=15)\n",
    "plt.tight_layout()\n",
    "plt.show()\n",
    "# plt.savefig('docs/figures/sigray_frame.png', dpi=150)"
   ]
  },
  {
   "cell_type": "code",
   "execution_count": null,
   "metadata": {},
   "outputs": [],
   "source": [
    "crop = rst.Crop([270, 300, 200, 1240])\n",
    "mirror = rst.Mirror(axis=1, shape=(crop.roi[1] - crop.roi[0], crop.roi[3] - crop.roi[2]))\n",
    "transform = rst.ComposeTransforms([crop, mirror])\n",
    "data = data.update_transform(transform=transform)\n",
    "data = data.update_mask(vmax=100000)"
   ]
  },
  {
   "cell_type": "code",
   "execution_count": null,
   "metadata": {},
   "outputs": [],
   "source": [
    "%matplotlib widget\n",
    "fig, ax = plt.subplots(figsize=(8, 1))\n",
    "ax.imshow(data.data[0], vmax=100)\n",
    "ax.set_title('Frame 0', fontsize=20)\n",
    "ax.tick_params(labelsize=15)\n",
    "plt.tight_layout()\n",
    "plt.show()\n",
    "# plt.savefig('docs/figures/sigray_crop.png', dpi=150)"
   ]
  },
  {
   "cell_type": "code",
   "execution_count": null,
   "metadata": {},
   "outputs": [],
   "source": [
    "data = data.integrate_data()"
   ]
  },
  {
   "cell_type": "code",
   "execution_count": null,
   "metadata": {},
   "outputs": [],
   "source": [
    "data = data.mask_frames(np.arange(5, 100))"
   ]
  },
  {
   "cell_type": "code",
   "execution_count": null,
   "metadata": {},
   "outputs": [],
   "source": [
    "%matplotlib widget\n",
    "fig, ax = plt.subplots(figsize=(8, 3))\n",
    "ax.imshow(data.data[:, 0])\n",
    "ax.set_title('Ptychograph', fontsize=20)\n",
    "ax.set_xlabel('horizontal axis', fontsize=15)\n",
    "ax.set_ylabel('frames', fontsize=15)\n",
    "ax.tick_params(labelsize=15)\n",
    "plt.show()\n",
    "# plt.savefig('docs/figures/sigray_ptychograph.png', dpi=150)"
   ]
  },
  {
   "cell_type": "code",
   "execution_count": null,
   "metadata": {},
   "outputs": [],
   "source": [
    "defoci = np.linspace(50e-6, 300e-6, 50)\n",
    "sweep_scan = data.defocus_sweep(defoci, size=50)\n",
    "defocus = defoci[np.argmax(sweep_scan)]\n",
    "print(defocus)"
   ]
  },
  {
   "cell_type": "code",
   "execution_count": null,
   "metadata": {},
   "outputs": [],
   "source": [
    "fig, ax = plt.subplots(figsize=(8, 4))\n",
    "ax.plot(defoci * 1e3, sweep_scan)\n",
    "ax.set_xlabel('Defocus distance, [mm]', fontsize=15)\n",
    "ax.set_title('Average gradient magnitude squared', fontsize=20)\n",
    "ax.tick_params(labelsize=15)\n",
    "ax.grid(True)\n",
    "plt.tight_layout()\n",
    "plt.show()\n",
    "# plt.savefig('docs/figures/sweep_scan_sigray.png', dpi=300)"
   ]
  },
  {
   "cell_type": "code",
   "execution_count": null,
   "metadata": {},
   "outputs": [],
   "source": [
    "data = data.update_defocus(defocus)"
   ]
  },
  {
   "cell_type": "code",
   "execution_count": null,
   "metadata": {},
   "outputs": [],
   "source": [
    "st_obj = data.get_st()\n",
    "h0 = st_obj.find_hopt()\n",
    "st_res = st_obj.train_adapt(search_window=(0.0, 10.0, 0.1), h0=h0, blur=8.0)"
   ]
  },
  {
   "cell_type": "code",
   "execution_count": null,
   "metadata": {},
   "outputs": [],
   "source": [
    "fig, axes = plt.subplots(1, 2, figsize=(8, 3))\n",
    "axes[0].plot(np.arange(st_res.reference_image.shape[1]) - st_res.ref_orig[1],\n",
    "             st_res.reference_image[0])\n",
    "axes[0].set_title('Reference image', fontsize=20)\n",
    "axes[1].plot((st_res.pixel_map - st_obj.pixel_map)[1, 0])\n",
    "axes[1].set_title('Pixel mapping', fontsize=20)\n",
    "for ax in axes:\n",
    "    ax.tick_params(labelsize=15)\n",
    "    ax.set_xlabel('Fast axis, pixels', fontsize=15)\n",
    "    ax.grid(True)\n",
    "plt.tight_layout()\n",
    "plt.show()\n",
    "# plt.savefig('docs/figures/sigray_res.png', dpi=300)"
   ]
  },
  {
   "cell_type": "code",
   "execution_count": null,
   "metadata": {},
   "outputs": [],
   "source": [
    "data.import_st(st_res)"
   ]
  },
  {
   "cell_type": "code",
   "execution_count": null,
   "metadata": {},
   "outputs": [],
   "source": [
    "fit_obj = data.get_fit(axis=1)\n",
    "fit_obj = fit_obj.remove_linear_term()\n",
    "fit = fit_obj.fit(max_order=3)"
   ]
  },
  {
   "cell_type": "code",
   "execution_count": null,
   "metadata": {},
   "outputs": [],
   "source": [
    "fit['c_4']"
   ]
  },
  {
   "cell_type": "code",
   "execution_count": null,
   "metadata": {},
   "outputs": [],
   "source": [
    "fig, axes = plt.subplots(1, 2, figsize=(8, 3))\n",
    "axes[0].plot(fit_obj.thetas, fit_obj.theta_ab * 1e9, 'b')\n",
    "axes[0].plot(fit_obj.thetas, fit_obj.model(fit['fit']) * fit_obj.ref_ap * 1e9,\n",
    "             'b--', label=fr\"R-PXST $c_4$ = {fit['c_4']:.4f} rad/mrad^4\")\n",
    "axes[0].set_title('Angular displacements, nrad', fontsize=15)\n",
    "\n",
    "axes[1].plot(fit_obj.thetas, fit_obj.phase, 'b')\n",
    "axes[1].plot(fit_obj.thetas, fit_obj.model(fit['ph_fit']), 'b--',\n",
    "             label=fr\"R-PXST $c_4$ ={fit['c_4']:.4f} rad/mrad^4\")\n",
    "axes[1].set_title('Phase, rad', fontsize=15)\n",
    "for ax in axes:\n",
    "    ax.legend(fontsize=10)\n",
    "    ax.tick_params(labelsize=10)\n",
    "    ax.set_xlabel('Scattering angles, rad', fontsize=15)\n",
    "    ax.grid(True)\n",
    "plt.tight_layout()\n",
    "plt.show()\n",
    "# plt.savefig('docs/figures/sigray_fits.png', dpi=300)"
   ]
  },
  {
   "cell_type": "code",
   "execution_count": null,
   "metadata": {},
   "outputs": [],
   "source": [
    "out_file = rst.CXIStore('results/sigray.cxi', mode='a')\n",
    "data = data.update_output_file(out_file)\n",
    "data.save(mode='overwrite')"
   ]
  }
 ],
 "metadata": {
  "kernelspec": {
   "display_name": "pyrost",
   "language": "python",
   "name": "pyrost"
  },
  "language_info": {
   "codemirror_mode": {
    "name": "ipython",
    "version": 3
   },
   "file_extension": ".py",
   "mimetype": "text/x-python",
   "name": "python",
   "nbconvert_exporter": "python",
   "pygments_lexer": "ipython3",
   "version": "3.7.12"
  }
 },
 "nbformat": 4,
 "nbformat_minor": 2
}
